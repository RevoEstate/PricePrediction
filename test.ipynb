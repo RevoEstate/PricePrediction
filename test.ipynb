{
 "cells": [
  {
   "cell_type": "code",
   "execution_count": 2,
   "id": "3fbc4f96",
   "metadata": {},
   "outputs": [],
   "source": [
    "from model import RevoNeuralNetwork\n"
   ]
  },
  {
   "cell_type": "code",
   "execution_count": null,
   "id": "d82c9e26",
   "metadata": {},
   "outputs": [],
   "source": []
  },
  {
   "cell_type": "code",
   "execution_count": 3,
   "id": "8fa0d109",
   "metadata": {},
   "outputs": [],
   "source": [
    "import torch\n",
    "mean=torch.load(\"/home/jibril/Documents/REvoEstatePricePrediction/Trainig/mean.pt\")\n",
    "std=torch.load(\"/home/jibril/Documents/REvoEstatePricePrediction/Trainig/std.pt\")\n",
    "Y_mean=torch.load(\"/home/jibril/Documents/REvoEstatePricePrediction/Trainig/Y_mean.pt\")\n",
    "Y_std=torch.load(\"/home/jibril/Documents/REvoEstatePricePrediction/Trainig/Y_std.pt\")\n"
   ]
  },
  {
   "cell_type": "code",
   "execution_count": 5,
   "id": "69fc6c37",
   "metadata": {},
   "outputs": [],
   "source": [
    "raw_input =[1.0,2.0,148.0,2025.0,1.0,0.0,0.0,1.0,0.0,0.0,0.0,0.0,0.0,0.0,0.0,0.0,0.0,0.0,1.0,1.0,0.0]\n",
    "input_tensor = torch.tensor(raw_input, dtype=torch.float32).unsqueeze(0)\n",
    "input_tensor_scaled = (input_tensor - mean) / std\n",
    "\n",
    "\n"
   ]
  },
  {
   "cell_type": "code",
   "execution_count": 6,
   "id": "a5ae5fff",
   "metadata": {},
   "outputs": [
    {
     "data": {
      "text/plain": [
       "RevoNeuralNetwork(\n",
       "  (fc1): Linear(in_features=21, out_features=1024, bias=True)\n",
       "  (fc2Seq): Sequential(\n",
       "    (0): Linear(in_features=1024, out_features=512, bias=True)\n",
       "    (1): GELU(approximate='none')\n",
       "    (2): BatchNorm1d(512, eps=1e-05, momentum=0.1, affine=True, track_running_stats=True)\n",
       "    (3): Dropout(p=0.2, inplace=False)\n",
       "    (4): Linear(in_features=512, out_features=256, bias=True)\n",
       "    (5): GELU(approximate='none')\n",
       "    (6): BatchNorm1d(256, eps=1e-05, momentum=0.1, affine=True, track_running_stats=True)\n",
       "    (7): Dropout(p=0.2, inplace=False)\n",
       "    (8): Linear(in_features=256, out_features=128, bias=True)\n",
       "    (9): LeakyReLU(negative_slope=0.01)\n",
       "    (10): BatchNorm1d(128, eps=1e-05, momentum=0.1, affine=True, track_running_stats=True)\n",
       "    (11): Linear(in_features=128, out_features=64, bias=True)\n",
       "    (12): GELU(approximate='none')\n",
       "    (13): BatchNorm1d(64, eps=1e-05, momentum=0.1, affine=True, track_running_stats=True)\n",
       "    (14): Linear(in_features=64, out_features=32, bias=True)\n",
       "    (15): ReLU()\n",
       "    (16): Linear(in_features=32, out_features=16, bias=True)\n",
       "    (17): GELU(approximate='none')\n",
       "  )\n",
       "  (fc6): Linear(in_features=16, out_features=1, bias=True)\n",
       ")"
      ]
     },
     "execution_count": 6,
     "metadata": {},
     "output_type": "execute_result"
    }
   ],
   "source": [
    "loaded_model = torch.load(\"/home/jibril/Documents/REvoEstatePricePrediction/Trainig/fullmodel.pth\",weights_only=False)\n",
    "loaded_model.eval()"
   ]
  },
  {
   "cell_type": "code",
   "execution_count": 7,
   "id": "9a1207bb",
   "metadata": {},
   "outputs": [
    {
     "name": "stdout",
     "output_type": "stream",
     "text": [
      "Prediction: 86167.0\n"
     ]
    }
   ],
   "source": [
    "with torch.no_grad():\n",
    "    y_pred = loaded_model(input_tensor_scaled)\n",
    "    y_pred_raw = torch.exp(y_pred * Y_std + Y_mean)  # Reverse log transformation\n",
    "    print(f'Prediction: {y_pred_raw.item():.1f}')  "
   ]
  },
  {
   "cell_type": "code",
   "execution_count": 4,
   "id": "db0695f8",
   "metadata": {},
   "outputs": [
    {
     "data": {
      "text/plain": [
       "<All keys matched successfully>"
      ]
     },
     "execution_count": 4,
     "metadata": {},
     "output_type": "execute_result"
    }
   ],
   "source": [
    "model1 = RevoNeuralNetwork()\n",
    "model1.load_state_dict(torch.load(\"/home/jibril/Documents/REvoEstatePricePrediction/Trainig/state_dictmodel.pth\", weights_only=True))\n"
   ]
  },
  {
   "cell_type": "code",
   "execution_count": null,
   "id": "e339f3a4",
   "metadata": {},
   "outputs": [],
   "source": [
    "model1.parameters"
   ]
  },
  {
   "cell_type": "code",
   "execution_count": 9,
   "id": "50cb1e33",
   "metadata": {},
   "outputs": [
    {
     "name": "stdout",
     "output_type": "stream",
     "text": [
      "Prediction: 86167.0\n"
     ]
    }
   ],
   "source": [
    "model1.eval()\n",
    "with torch.no_grad():\n",
    "    y_pred = model1(input_tensor_scaled)\n",
    "    y_pred_raw = torch.exp(y_pred * Y_std + Y_mean)  # Reverse log transformation\n",
    "    print(f'Prediction: {y_pred_raw.item():.1f}')  "
   ]
  },
  {
   "cell_type": "code",
   "execution_count": null,
   "id": "e33ac6a1",
   "metadata": {},
   "outputs": [
    {
     "data": {
      "text/plain": [
       "'/home/jibril/Documents/REvoEstatePricePrediction'"
      ]
     },
     "execution_count": 2,
     "metadata": {},
     "output_type": "execute_result"
    }
   ],
   "source": []
  }
 ],
 "metadata": {
  "kernelspec": {
   "display_name": "revo",
   "language": "python",
   "name": "python3"
  },
  "language_info": {
   "codemirror_mode": {
    "name": "ipython",
    "version": 3
   },
   "file_extension": ".py",
   "mimetype": "text/x-python",
   "name": "python",
   "nbconvert_exporter": "python",
   "pygments_lexer": "ipython3",
   "version": "3.11.8"
  }
 },
 "nbformat": 4,
 "nbformat_minor": 5
}
