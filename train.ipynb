{
 "cells": [
  {
   "cell_type": "code",
   "execution_count": 75,
   "metadata": {},
   "outputs": [],
   "source": [
    "import pandas as pd\n",
    "import torch\n",
    "import torch.nn as nn\n",
    "import torch.nn.functional as F\n",
    "from sklearn.model_selection import train_test_split\n",
    "from torch.utils.data import TensorDataset, DataLoader\n",
    "import numpy as np\n"
   ]
  },
  {
   "cell_type": "code",
   "execution_count": 76,
   "metadata": {},
   "outputs": [],
   "source": [
    "dataset=pd.read_csv('EncodedFinalDataset.csv')"
   ]
  },
  {
   "cell_type": "code",
   "execution_count": 77,
   "metadata": {},
   "outputs": [
    {
     "data": {
      "text/html": [
       "<div>\n",
       "<style scoped>\n",
       "    .dataframe tbody tr th:only-of-type {\n",
       "        vertical-align: middle;\n",
       "    }\n",
       "\n",
       "    .dataframe tbody tr th {\n",
       "        vertical-align: top;\n",
       "    }\n",
       "\n",
       "    .dataframe thead th {\n",
       "        text-align: right;\n",
       "    }\n",
       "</style>\n",
       "<table border=\"1\" class=\"dataframe\">\n",
       "  <thead>\n",
       "    <tr style=\"text-align: right;\">\n",
       "      <th></th>\n",
       "      <th>Price</th>\n",
       "      <th>Bedrooms</th>\n",
       "      <th>Bathrooms</th>\n",
       "      <th>Land_Area</th>\n",
       "      <th>Year</th>\n",
       "      <th>Status_For Rent</th>\n",
       "      <th>Status_For Sale</th>\n",
       "      <th>Furnished_No</th>\n",
       "      <th>Furnished_Yes</th>\n",
       "      <th>Address_Addis Ketema</th>\n",
       "      <th>...</th>\n",
       "      <th>Address_Bole</th>\n",
       "      <th>Address_Gullele</th>\n",
       "      <th>Address_Kirkos</th>\n",
       "      <th>Address_Kolfe Keranio</th>\n",
       "      <th>Address_Lemi Kura</th>\n",
       "      <th>Address_Lideta</th>\n",
       "      <th>Address_Nifas Silk-Lafto</th>\n",
       "      <th>Address_Yeka</th>\n",
       "      <th>Property_Type_Apartment</th>\n",
       "      <th>Property_Type_Villa</th>\n",
       "    </tr>\n",
       "  </thead>\n",
       "  <tbody>\n",
       "    <tr>\n",
       "      <th>0</th>\n",
       "      <td>70000.0</td>\n",
       "      <td>1.0</td>\n",
       "      <td>2.0</td>\n",
       "      <td>148.0</td>\n",
       "      <td>2025.0</td>\n",
       "      <td>1.0</td>\n",
       "      <td>0.0</td>\n",
       "      <td>0.0</td>\n",
       "      <td>1.0</td>\n",
       "      <td>0.0</td>\n",
       "      <td>...</td>\n",
       "      <td>0.0</td>\n",
       "      <td>0.0</td>\n",
       "      <td>0.0</td>\n",
       "      <td>0.0</td>\n",
       "      <td>0.0</td>\n",
       "      <td>0.0</td>\n",
       "      <td>0.0</td>\n",
       "      <td>1.0</td>\n",
       "      <td>1.0</td>\n",
       "      <td>0.0</td>\n",
       "    </tr>\n",
       "    <tr>\n",
       "      <th>1</th>\n",
       "      <td>100000.0</td>\n",
       "      <td>3.0</td>\n",
       "      <td>2.0</td>\n",
       "      <td>148.0</td>\n",
       "      <td>2025.0</td>\n",
       "      <td>1.0</td>\n",
       "      <td>0.0</td>\n",
       "      <td>0.0</td>\n",
       "      <td>1.0</td>\n",
       "      <td>0.0</td>\n",
       "      <td>...</td>\n",
       "      <td>0.0</td>\n",
       "      <td>0.0</td>\n",
       "      <td>0.0</td>\n",
       "      <td>0.0</td>\n",
       "      <td>1.0</td>\n",
       "      <td>0.0</td>\n",
       "      <td>0.0</td>\n",
       "      <td>0.0</td>\n",
       "      <td>1.0</td>\n",
       "      <td>0.0</td>\n",
       "    </tr>\n",
       "    <tr>\n",
       "      <th>2</th>\n",
       "      <td>31000000.0</td>\n",
       "      <td>5.0</td>\n",
       "      <td>3.0</td>\n",
       "      <td>350.0</td>\n",
       "      <td>2025.0</td>\n",
       "      <td>0.0</td>\n",
       "      <td>1.0</td>\n",
       "      <td>1.0</td>\n",
       "      <td>0.0</td>\n",
       "      <td>0.0</td>\n",
       "      <td>...</td>\n",
       "      <td>0.0</td>\n",
       "      <td>0.0</td>\n",
       "      <td>0.0</td>\n",
       "      <td>0.0</td>\n",
       "      <td>1.0</td>\n",
       "      <td>0.0</td>\n",
       "      <td>0.0</td>\n",
       "      <td>0.0</td>\n",
       "      <td>0.0</td>\n",
       "      <td>1.0</td>\n",
       "    </tr>\n",
       "  </tbody>\n",
       "</table>\n",
       "<p>3 rows × 22 columns</p>\n",
       "</div>"
      ],
      "text/plain": [
       "        Price  Bedrooms  Bathrooms  Land_Area    Year  Status_For Rent  \\\n",
       "0     70000.0       1.0        2.0      148.0  2025.0              1.0   \n",
       "1    100000.0       3.0        2.0      148.0  2025.0              1.0   \n",
       "2  31000000.0       5.0        3.0      350.0  2025.0              0.0   \n",
       "\n",
       "   Status_For Sale  Furnished_No  Furnished_Yes  Address_Addis Ketema  ...  \\\n",
       "0              0.0           0.0            1.0                   0.0  ...   \n",
       "1              0.0           0.0            1.0                   0.0  ...   \n",
       "2              1.0           1.0            0.0                   0.0  ...   \n",
       "\n",
       "   Address_Bole  Address_Gullele  Address_Kirkos  Address_Kolfe Keranio  \\\n",
       "0           0.0              0.0             0.0                    0.0   \n",
       "1           0.0              0.0             0.0                    0.0   \n",
       "2           0.0              0.0             0.0                    0.0   \n",
       "\n",
       "   Address_Lemi Kura  Address_Lideta  Address_Nifas Silk-Lafto  Address_Yeka  \\\n",
       "0                0.0             0.0                       0.0           1.0   \n",
       "1                1.0             0.0                       0.0           0.0   \n",
       "2                1.0             0.0                       0.0           0.0   \n",
       "\n",
       "   Property_Type_Apartment  Property_Type_Villa  \n",
       "0                      1.0                  0.0  \n",
       "1                      1.0                  0.0  \n",
       "2                      0.0                  1.0  \n",
       "\n",
       "[3 rows x 22 columns]"
      ]
     },
     "execution_count": 77,
     "metadata": {},
     "output_type": "execute_result"
    }
   ],
   "source": [
    "dataset.head(3)"
   ]
  },
  {
   "cell_type": "code",
   "execution_count": 78,
   "metadata": {},
   "outputs": [
    {
     "data": {
      "text/plain": [
       "(7659, 22)"
      ]
     },
     "execution_count": 78,
     "metadata": {},
     "output_type": "execute_result"
    }
   ],
   "source": [
    "dataset.shape"
   ]
  },
  {
   "cell_type": "code",
   "execution_count": 79,
   "metadata": {},
   "outputs": [],
   "source": [
    "# X=dataset[1:]\n",
    "# Y=dataset[0]\n"
   ]
  },
  {
   "cell_type": "code",
   "execution_count": 80,
   "metadata": {},
   "outputs": [],
   "source": [
    "# X[:5,:],Y[:5,:]"
   ]
  },
  {
   "cell_type": "code",
   "execution_count": 81,
   "metadata": {},
   "outputs": [
    {
     "data": {
      "text/plain": [
       "<function Tensor.type>"
      ]
     },
     "execution_count": 81,
     "metadata": {},
     "output_type": "execute_result"
    }
   ],
   "source": [
    "dataset=torch.tensor(dataset.values,dtype=torch.float32)\n",
    "dataset.type"
   ]
  },
  {
   "cell_type": "code",
   "execution_count": 82,
   "metadata": {},
   "outputs": [],
   "source": [
    "X=dataset[:,1:]\n",
    "Y=dataset[:,0]\n",
    "Y=Y.view(-1,1)\n"
   ]
  },
  {
   "cell_type": "code",
   "execution_count": 83,
   "metadata": {},
   "outputs": [
    {
     "data": {
      "text/plain": [
       "tensor([[1.0000e+00, 2.0000e+00, 1.4800e+02, 2.0250e+03, 1.0000e+00, 0.0000e+00,\n",
       "         0.0000e+00, 1.0000e+00, 0.0000e+00, 0.0000e+00, 0.0000e+00, 0.0000e+00,\n",
       "         0.0000e+00, 0.0000e+00, 0.0000e+00, 0.0000e+00, 0.0000e+00, 0.0000e+00,\n",
       "         1.0000e+00, 1.0000e+00, 0.0000e+00],\n",
       "        [3.0000e+00, 2.0000e+00, 1.4800e+02, 2.0250e+03, 1.0000e+00, 0.0000e+00,\n",
       "         0.0000e+00, 1.0000e+00, 0.0000e+00, 0.0000e+00, 0.0000e+00, 0.0000e+00,\n",
       "         0.0000e+00, 0.0000e+00, 0.0000e+00, 1.0000e+00, 0.0000e+00, 0.0000e+00,\n",
       "         0.0000e+00, 1.0000e+00, 0.0000e+00],\n",
       "        [5.0000e+00, 3.0000e+00, 3.5000e+02, 2.0250e+03, 0.0000e+00, 1.0000e+00,\n",
       "         1.0000e+00, 0.0000e+00, 0.0000e+00, 0.0000e+00, 0.0000e+00, 0.0000e+00,\n",
       "         0.0000e+00, 0.0000e+00, 0.0000e+00, 1.0000e+00, 0.0000e+00, 0.0000e+00,\n",
       "         0.0000e+00, 0.0000e+00, 1.0000e+00]])"
      ]
     },
     "execution_count": 83,
     "metadata": {},
     "output_type": "execute_result"
    }
   ],
   "source": [
    "X[:3,:]"
   ]
  },
  {
   "cell_type": "code",
   "execution_count": 84,
   "metadata": {},
   "outputs": [
    {
     "data": {
      "text/plain": [
       "(torch.Size([7659, 21]), torch.Size([7659, 1]))"
      ]
     },
     "execution_count": 84,
     "metadata": {},
     "output_type": "execute_result"
    }
   ],
   "source": [
    "X.shape,Y.shape"
   ]
  },
  {
   "cell_type": "code",
   "execution_count": null,
   "metadata": {},
   "outputs": [
    {
     "data": {
      "text/plain": [
       "(torch.Size([6127, 21]),\n",
       " torch.Size([1532, 21]),\n",
       " torch.Size([6127, 1]),\n",
       " torch.Size([1532, 1]))"
      ]
     },
     "execution_count": 85,
     "metadata": {},
     "output_type": "execute_result"
    }
   ],
   "source": [
    "X_train,X_test,Y_train,Y_test=train_test_split(X,Y,test_size=0.3,random_state=42)\n",
    "X_train.shape,X_test.shape,Y_train.shape,Y_test.shape"
   ]
  },
  {
   "cell_type": "code",
   "execution_count": 86,
   "metadata": {},
   "outputs": [],
   "source": [
    "mean=X_train.mean(dim=0)\n",
    "torch.save(mean,\"mean.pt\")\n",
    "std=X_train.std(dim=0)\n",
    "torch.save(std,\"std.pt\")\n",
    "\n"
   ]
  },
  {
   "cell_type": "code",
   "execution_count": 87,
   "metadata": {},
   "outputs": [],
   "source": [
    "X_train=(X_train-mean)/std\n",
    "X_test=(X_test-mean)/std\n"
   ]
  },
  {
   "cell_type": "code",
   "execution_count": 88,
   "metadata": {},
   "outputs": [],
   "source": [
    "Y_mean = Y_train.mean()\n",
    "Y_std = Y_train.std()\n",
    "Y_train = (Y_train - Y_mean) / Y_std\n",
    "Y_test= (Y_test - Y_mean) / Y_std  "
   ]
  },
  {
   "cell_type": "code",
   "execution_count": 89,
   "metadata": {},
   "outputs": [
    {
     "data": {
      "text/plain": [
       "(tensor([3.0664e+00, 2.5577e+00, 1.9923e+02, 2.0248e+03, 4.4900e-01, 5.5100e-01,\n",
       "         5.3844e-01, 4.6156e-01, 1.0935e-02, 7.5078e-03, 2.3992e-02, 5.5574e-01,\n",
       "         2.7746e-03, 6.9692e-02, 1.2241e-02, 6.0715e-02, 1.7627e-02, 4.9127e-02,\n",
       "         1.8965e-01, 8.6062e-01, 1.3938e-01]),\n",
       " tensor([2.0620e+00, 1.5786e+00, 2.6714e+02, 4.2303e-01, 4.9743e-01, 4.9743e-01,\n",
       "         4.9856e-01, 4.9856e-01, 1.0401e-01, 8.6328e-02, 1.5304e-01, 4.9692e-01,\n",
       "         5.2606e-02, 2.5465e-01, 1.0997e-01, 2.3883e-01, 1.3160e-01, 2.1615e-01,\n",
       "         3.9206e-01, 3.4637e-01, 3.4637e-01]))"
      ]
     },
     "execution_count": 89,
     "metadata": {},
     "output_type": "execute_result"
    }
   ],
   "source": [
    "mean,std"
   ]
  },
  {
   "cell_type": "code",
   "execution_count": 90,
   "metadata": {},
   "outputs": [
    {
     "data": {
      "text/plain": [
       "(tensor([ 2.9885e-08,  3.1753e-08, -2.4904e-09,  1.2215e-04, -1.9612e-08,\n",
       "          1.9612e-08, -1.5565e-08,  3.9535e-08, -2.9885e-08, -1.5487e-08,\n",
       "         -1.4787e-08, -9.3391e-10, -6.3039e-09, -2.4904e-08, -5.6034e-09,\n",
       "          2.7395e-08,  1.8678e-08,  2.4904e-08,  5.0742e-08,  3.5488e-08,\n",
       "         -1.4943e-08]),\n",
       " tensor([1.0000, 1.0000, 1.0000, 1.0000, 1.0000, 1.0000, 1.0000, 1.0000, 1.0000,\n",
       "         1.0000, 1.0000, 1.0000, 1.0000, 1.0000, 1.0000, 1.0000, 1.0000, 1.0000,\n",
       "         1.0000, 1.0000, 1.0000]))"
      ]
     },
     "execution_count": 90,
     "metadata": {},
     "output_type": "execute_result"
    }
   ],
   "source": [
    "X_train.mean(dim=0),X_train.std(dim=0)\n"
   ]
  },
  {
   "cell_type": "code",
   "execution_count": 91,
   "metadata": {},
   "outputs": [
    {
     "data": {
      "text/plain": [
       "torch.Size([6127, 21])"
      ]
     },
     "execution_count": 91,
     "metadata": {},
     "output_type": "execute_result"
    }
   ],
   "source": [
    "X_train.shape"
   ]
  },
  {
   "cell_type": "code",
   "execution_count": 92,
   "metadata": {},
   "outputs": [],
   "source": [
    "class RevoNeuralNetwork(nn.Module):\n",
    "    def __init__(self):\n",
    "        super().__init__()\n",
    "       \n",
    "        self.fc1 = nn.Linear(21, 512) \n",
    "        self.fc2Seq = nn.Sequential(\n",
    "            nn.Linear(512, 256),\n",
    "            nn.ReLU(), \n",
    "            nn.BatchNorm1d(256), \n",
    "            nn.Dropout(0.3),\n",
    "            nn.Linear(256, 128), \n",
    "            nn.ReLU(), \n",
    "            nn.BatchNorm1d(128), \n",
    "            nn.Dropout(0.3),\n",
    "            nn.Linear(128, 64), \n",
    "            nn.ReLU(), \n",
    "            nn.BatchNorm1d(64),\n",
    "            nn.Linear(64, 32), \n",
    "            nn.ReLU()\n",
    "        )\n",
    "        # Adding a dropout layer\n",
    "        self.dropout = nn.Dropout(0.3)\n",
    "        self.fc6 = nn.Linear(32, 1)  \n",
    "  \n",
    "    def forward(self, x):\n",
    "        x = self.fc1(x)\n",
    "        x = self.fc2Seq(x)\n",
    "        x = self.fc6(x)  \n",
    "        return x\n",
    "\n",
    "      \n",
    "        \n",
    "    def forward(self,x):\n",
    "        x=self.fc1(x)\n",
    "        x=self.fc2Seq(x)\n",
    "        x=self.dropout(x)\n",
    "        x=self.fc6(x)\n",
    "       \n",
    "        return x\n"
   ]
  },
  {
   "cell_type": "code",
   "execution_count": 93,
   "metadata": {},
   "outputs": [],
   "source": [
    "model=RevoNeuralNetwork()\n"
   ]
  },
  {
   "cell_type": "code",
   "execution_count": 94,
   "metadata": {},
   "outputs": [],
   "source": [
    "optimizer=torch.optim.Adam(model.parameters(),lr=0.0001,weight_decay=1e-5)\n",
    "lossfun = nn.L1Loss()\n"
   ]
  },
  {
   "cell_type": "code",
   "execution_count": 95,
   "metadata": {},
   "outputs": [
    {
     "name": "stdout",
     "output_type": "stream",
     "text": [
      "Epoch 0:\n",
      "Train Loss: 0.2654, Train MAE: 0.2654\n",
      "Test Loss: 0.1213, Test MAE: 0.1213\n",
      "Epoch 10:\n",
      "Train Loss: 0.1414, Train MAE: 0.1414\n",
      "Test Loss: 0.0825, Test MAE: 0.0825\n",
      "Epoch 20:\n",
      "Train Loss: 0.1245, Train MAE: 0.1245\n",
      "Test Loss: 0.0753, Test MAE: 0.0753\n",
      "Epoch 30:\n",
      "Train Loss: 0.1222, Train MAE: 0.1222\n",
      "Test Loss: 0.0704, Test MAE: 0.0704\n",
      "Epoch 40:\n",
      "Train Loss: 0.1135, Train MAE: 0.1135\n",
      "Test Loss: 0.0684, Test MAE: 0.0684\n",
      "Epoch 50:\n",
      "Train Loss: 0.1106, Train MAE: 0.1106\n",
      "Test Loss: 0.0657, Test MAE: 0.0657\n",
      "Epoch 60:\n",
      "Train Loss: 0.1072, Train MAE: 0.1072\n",
      "Test Loss: 0.0673, Test MAE: 0.0673\n",
      "Epoch 70:\n",
      "Train Loss: 0.1039, Train MAE: 0.1039\n",
      "Test Loss: 0.0643, Test MAE: 0.0643\n",
      "Epoch 80:\n",
      "Train Loss: 0.1036, Train MAE: 0.1036\n",
      "Test Loss: 0.0637, Test MAE: 0.0637\n",
      "Epoch 90:\n",
      "Train Loss: 0.1004, Train MAE: 0.1004\n",
      "Test Loss: 0.0631, Test MAE: 0.0631\n",
      "Epoch 100:\n",
      "Train Loss: 0.0997, Train MAE: 0.0997\n",
      "Test Loss: 0.0622, Test MAE: 0.0622\n",
      "Epoch 110:\n",
      "Train Loss: 0.0980, Train MAE: 0.0980\n",
      "Test Loss: 0.0606, Test MAE: 0.0606\n",
      "Epoch 120:\n",
      "Train Loss: 0.0956, Train MAE: 0.0956\n",
      "Test Loss: 0.0620, Test MAE: 0.0620\n",
      "Epoch 130:\n",
      "Train Loss: 0.0963, Train MAE: 0.0963\n",
      "Test Loss: 0.0621, Test MAE: 0.0621\n",
      "Epoch 140:\n",
      "Train Loss: 0.0954, Train MAE: 0.0954\n",
      "Test Loss: 0.0601, Test MAE: 0.0601\n",
      "Epoch 150:\n",
      "Train Loss: 0.0969, Train MAE: 0.0969\n",
      "Test Loss: 0.0616, Test MAE: 0.0616\n",
      "Epoch 160:\n",
      "Train Loss: 0.0957, Train MAE: 0.0957\n",
      "Test Loss: 0.0626, Test MAE: 0.0626\n",
      "Epoch 170:\n",
      "Train Loss: 0.0956, Train MAE: 0.0956\n",
      "Test Loss: 0.0606, Test MAE: 0.0606\n",
      "Epoch 180:\n",
      "Train Loss: 0.0933, Train MAE: 0.0933\n",
      "Test Loss: 0.0613, Test MAE: 0.0613\n",
      "Epoch 190:\n",
      "Train Loss: 0.0922, Train MAE: 0.0922\n",
      "Test Loss: 0.0635, Test MAE: 0.0635\n",
      "Epoch 200:\n",
      "Train Loss: 0.0925, Train MAE: 0.0925\n",
      "Test Loss: 0.0621, Test MAE: 0.0621\n",
      "Epoch 210:\n",
      "Train Loss: 0.0930, Train MAE: 0.0930\n",
      "Test Loss: 0.0610, Test MAE: 0.0610\n",
      "Epoch 220:\n",
      "Train Loss: 0.0932, Train MAE: 0.0932\n",
      "Test Loss: 0.0609, Test MAE: 0.0609\n",
      "Epoch 230:\n",
      "Train Loss: 0.0921, Train MAE: 0.0921\n",
      "Test Loss: 0.0611, Test MAE: 0.0611\n",
      "Epoch 240:\n",
      "Train Loss: 0.0931, Train MAE: 0.0931\n",
      "Test Loss: 0.0601, Test MAE: 0.0601\n",
      "Epoch 250:\n",
      "Train Loss: 0.0909, Train MAE: 0.0909\n",
      "Test Loss: 0.0619, Test MAE: 0.0619\n",
      "Epoch 260:\n",
      "Train Loss: 0.0920, Train MAE: 0.0920\n",
      "Test Loss: 0.0599, Test MAE: 0.0599\n",
      "Epoch 270:\n",
      "Train Loss: 0.0928, Train MAE: 0.0928\n",
      "Test Loss: 0.0605, Test MAE: 0.0605\n",
      "Epoch 280:\n",
      "Train Loss: 0.0905, Train MAE: 0.0905\n",
      "Test Loss: 0.0597, Test MAE: 0.0597\n",
      "Epoch 290:\n",
      "Train Loss: 0.0931, Train MAE: 0.0931\n",
      "Test Loss: 0.0599, Test MAE: 0.0599\n",
      "Epoch 300:\n",
      "Train Loss: 0.0918, Train MAE: 0.0918\n",
      "Test Loss: 0.0628, Test MAE: 0.0628\n",
      "Epoch 310:\n",
      "Train Loss: 0.0899, Train MAE: 0.0899\n",
      "Test Loss: 0.0622, Test MAE: 0.0622\n",
      "Epoch 320:\n",
      "Train Loss: 0.0891, Train MAE: 0.0891\n",
      "Test Loss: 0.0617, Test MAE: 0.0617\n",
      "Epoch 330:\n",
      "Train Loss: 0.0908, Train MAE: 0.0908\n",
      "Test Loss: 0.0602, Test MAE: 0.0602\n",
      "Epoch 340:\n",
      "Train Loss: 0.0928, Train MAE: 0.0928\n",
      "Test Loss: 0.0593, Test MAE: 0.0593\n",
      "Epoch 350:\n",
      "Train Loss: 0.0901, Train MAE: 0.0901\n",
      "Test Loss: 0.0595, Test MAE: 0.0595\n",
      "Epoch 360:\n",
      "Train Loss: 0.0895, Train MAE: 0.0895\n",
      "Test Loss: 0.0598, Test MAE: 0.0598\n",
      "Epoch 370:\n",
      "Train Loss: 0.0901, Train MAE: 0.0901\n",
      "Test Loss: 0.0617, Test MAE: 0.0617\n",
      "Epoch 380:\n",
      "Train Loss: 0.0891, Train MAE: 0.0891\n",
      "Test Loss: 0.0609, Test MAE: 0.0609\n",
      "Epoch 390:\n",
      "Train Loss: 0.0899, Train MAE: 0.0899\n",
      "Test Loss: 0.0594, Test MAE: 0.0594\n",
      "Epoch 400:\n",
      "Train Loss: 0.0892, Train MAE: 0.0892\n",
      "Test Loss: 0.0614, Test MAE: 0.0614\n",
      "Epoch 410:\n",
      "Train Loss: 0.0891, Train MAE: 0.0891\n",
      "Test Loss: 0.0609, Test MAE: 0.0609\n",
      "Epoch 420:\n",
      "Train Loss: 0.0909, Train MAE: 0.0909\n",
      "Test Loss: 0.0601, Test MAE: 0.0601\n",
      "Epoch 430:\n",
      "Train Loss: 0.0893, Train MAE: 0.0893\n",
      "Test Loss: 0.0614, Test MAE: 0.0614\n",
      "Epoch 440:\n",
      "Train Loss: 0.0876, Train MAE: 0.0876\n",
      "Test Loss: 0.0594, Test MAE: 0.0594\n",
      "Epoch 450:\n",
      "Train Loss: 0.0900, Train MAE: 0.0900\n",
      "Test Loss: 0.0615, Test MAE: 0.0615\n",
      "Epoch 460:\n",
      "Train Loss: 0.0890, Train MAE: 0.0890\n",
      "Test Loss: 0.0594, Test MAE: 0.0594\n",
      "Epoch 470:\n",
      "Train Loss: 0.0910, Train MAE: 0.0910\n",
      "Test Loss: 0.0598, Test MAE: 0.0598\n",
      "Epoch 480:\n",
      "Train Loss: 0.0893, Train MAE: 0.0893\n",
      "Test Loss: 0.0594, Test MAE: 0.0594\n",
      "Epoch 490:\n",
      "Train Loss: 0.0879, Train MAE: 0.0879\n",
      "Test Loss: 0.0602, Test MAE: 0.0602\n"
     ]
    },
    {
     "data": {
      "image/png": "[encoded data removed]",
      "text/plain": [
       "<Figure size 1200x400 with 2 Axes>"
      ]
     },
     "metadata": {},
     "output_type": "display_data"
    },
    {
     "name": "stdout",
     "output_type": "stream",
     "text": [
      "\n",
      "Final Results:\n",
      "Final Train Loss: 0.0872\n",
      "Final Test Loss: 0.0606\n",
      "Final Train MAE: 0.0872\n",
      "Final Test MAE: 0.0606\n"
     ]
    }
   ],
   "source": [
    "trainLossavg = []\n",
    "testLoss = []\n",
    "trainMAEavg = []  \n",
    "testMAE = [] \n",
    "\n",
    "train_dataset = TensorDataset(X_train, Y_train)\n",
    "train_loader = DataLoader(train_dataset, batch_size=32, shuffle=True) \n",
    "\n",
    "\n",
    "\n",
    "for epoch in range(500):\n",
    "    batchLoss = []\n",
    "    batchMAE= []\n",
    "\n",
    "    # Training phase\n",
    "    for X_train, Y_train in train_loader:\n",
    "\n",
    "        model.train()\n",
    "        y_pred = model(X_train)\n",
    "        loss = lossfun(y_pred, Y_train)\n",
    "        \n",
    "        # Backpropagation\n",
    "        optimizer.zero_grad()\n",
    "        loss.backward()\n",
    "        optimizer.step()\n",
    "        \n",
    "        # Calculate training MAE\n",
    "        batch_mae = torch.mean(torch.abs(y_pred - Y_train)).item()\n",
    "        batchLoss.append(loss.item())\n",
    "        batchMAE.append(batch_mae)\n",
    "    trainLossavg.append(np.mean(batchLoss))\n",
    "    trainMAEavg.append(np.mean(batchMAE))\n",
    "    \n",
    "    model.eval()\n",
    "    with torch.no_grad():\n",
    "        y_pred_test = model(X_test)\n",
    "        test_loss = lossfun(y_pred_test, Y_test)\n",
    "        test_mae = torch.mean(torch.abs(y_pred_test - Y_test)).item()\n",
    "        testLoss.append(test_loss.item())\n",
    "        testMAE.append(test_mae)\n",
    "    \n",
    "    if epoch % 10 == 0:\n",
    "        print(f'Epoch {epoch}:')\n",
    "        \n",
    "        print(f'Train Loss: {trainLossavg[-1]:.4f}, Train MAE: {trainMAEavg[-1]:.4f}')\n",
    "        print(f'Test Loss: {test_loss.item():.4f}, Test MAE: {test_mae:.4f}')\n",
    "\n",
    "import matplotlib.pyplot as plt\n",
    "\n",
    "plt.figure(figsize=(12, 4))\n",
    "plt.subplot(1, 2, 1)\n",
    "plt.plot(trainLossavg, label='Train Loss')\n",
    "plt.plot(testLoss, label='Test Loss')\n",
    "plt.xlabel('Epoch')\n",
    "plt.ylabel('Loss')\n",
    "plt.legend()\n",
    "plt.title('Training and Testing Loss')\n",
    "\n",
    "plt.subplot(1, 2, 2)\n",
    "plt.plot(trainMAEavg, label='Train MAE')\n",
    "plt.plot(testMAE, label='Test MAE')\n",
    "plt.xlabel('Epoch')\n",
    "plt.ylabel('MAE')\n",
    "plt.legend()\n",
    "plt.title('Training and Testing MAE')\n",
    "plt.tight_layout()\n",
    "plt.show()\n",
    "\n",
    "print(\"\\nFinal Results:\")\n",
    "print(f\"Final Train Loss: {trainLossavg[-1]:.4f}\")\n",
    "print(f\"Final Test Loss: {testLoss[-1]:.4f}\")\n",
    "print(f\"Final Train MAE: {trainMAEavg[-1]:.4f}\")\n",
    "print(f\"Final Test MAE: {testMAE[-1]:.4f}\")"
   ]
  },
  {
   "cell_type": "code",
   "execution_count": 96,
   "metadata": {},
   "outputs": [
    {
     "data": {
      "text/plain": [
       "torch.Size([1532, 21])"
      ]
     },
     "execution_count": 96,
     "metadata": {},
     "output_type": "execute_result"
    }
   ],
   "source": [
    "X_test.shape"
   ]
  },
  {
   "cell_type": "code",
   "execution_count": null,
   "metadata": {},
   "outputs": [],
   "source": []
  },
  {
   "cell_type": "code",
   "execution_count": null,
   "metadata": {},
   "outputs": [
    {
     "name": "stdout",
     "output_type": "stream",
     "text": [
      "Prediction: 12110527.0\n"
     ]
    }
   ],
   "source": [
    "raw_input = [3.0,2.0,200.0,2024.0,1.0,0.0,1.0,0.0,1.0,0.0,0.0,0.0,0.0,0.0,0.0,0.0,0.0,0.0,0.0,0.0,1.0]\n",
    "input=[2.0,2.0,148.0,2024.0,1.0,0.0,1.0,0.0,0.0,0.0,0.0,0.0,0.0,0.0,0.0,0.0,0.0,1.0,0.0,1.0,0.0]\n",
    "\n",
    "input_tensor = torch.tensor(raw_input, dtype=torch.float32).unsqueeze(0)  # Shape: (1, 22)\n",
    "\n",
    "\n",
    "\n",
    "input_tensor_scaled = (input_tensor - mean) / std\n",
    "\n",
    "model.eval() \n",
    "with torch.no_grad():\n",
    "    y_pred = model(input_tensor_scaled)\n",
    "    y_pred_raw = (y_pred.item() * Y_std) + Y_mean\n",
    "    print(f'Prediction: {y_pred_raw}')  # Use .item() if single value"
   ]
  },
  {
   "cell_type": "code",
   "execution_count": 98,
   "metadata": {},
   "outputs": [],
   "source": [
    "#Prediction: 16146325.0\n",
    "# Prediction: 19755266.0\n",
    "#Prediction: 14586225.0"
   ]
  }
 ],
 "metadata": {
  "kernelspec": {
   "display_name": "revo",
   "language": "python",
   "name": "python3"
  },
  "language_info": {
   "codemirror_mode": {
    "name": "ipython",
    "version": 3
   },
   "file_extension": ".py",
   "mimetype": "text/x-python",
   "name": "python",
   "nbconvert_exporter": "python",
   "pygments_lexer": "ipython3",
   "version": "3.11.8"
  }
 },
 "nbformat": 4,
 "nbformat_minor": 2
}
