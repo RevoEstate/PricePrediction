{
 "cells": [
  {
   "cell_type": "code",
   "execution_count": 2,
   "metadata": {},
   "outputs": [],
   "source": [
    "import pandas as pd\n"
   ]
  },
  {
   "cell_type": "code",
   "execution_count": 58,
   "metadata": {},
   "outputs": [],
   "source": [
    "dataset=pd.read_csv(\"/home/jibril/Documents/REvoEstatePricePrediction/11Realestatedataset_modified_updated.csv\")"
   ]
  },
  {
   "cell_type": "code",
   "execution_count": 59,
   "metadata": {},
   "outputs": [
    {
     "data": {
      "text/plain": [
       "(7686, 9)"
      ]
     },
     "execution_count": 59,
     "metadata": {},
     "output_type": "execute_result"
    }
   ],
   "source": [
    "dataset.shape"
   ]
  },
  {
   "cell_type": "code",
   "execution_count": 51,
   "metadata": {},
   "outputs": [
    {
     "data": {
      "text/plain": [
       "Index(['Price', 'Bedrooms', 'Bathrooms', 'Land_Area', 'Year', 'Status',\n",
       "       'Furnished', 'Address', 'Property_Type'],\n",
       "      dtype='object')"
      ]
     },
     "execution_count": 51,
     "metadata": {},
     "output_type": "execute_result"
    }
   ],
   "source": [
    "dataset.columns"
   ]
  },
  {
   "cell_type": "code",
   "execution_count": 2,
   "metadata": {},
   "outputs": [],
   "source": [
    "import pandas as pd\n"
   ]
  },
  {
   "cell_type": "code",
   "execution_count": 14,
   "metadata": {},
   "outputs": [],
   "source": [
    "dataset=pd.read_csv(\"/home/jibril/Documents/REvoEstatePricePrediction/EncodedFinalDataset.csv\")"
   ]
  },
  {
   "cell_type": "code",
   "execution_count": 15,
   "metadata": {},
   "outputs": [
    {
     "data": {
      "text/plain": [
       "False    5250\n",
       "True     2409\n",
       "Name: count, dtype: int64"
      ]
     },
     "execution_count": 15,
     "metadata": {},
     "output_type": "execute_result"
    }
   ],
   "source": [
    "dataset=dataset.duplicated().value_counts()\n",
    "dataset\n",
    "\n"
   ]
  },
  {
   "cell_type": "code",
   "execution_count": 19,
   "metadata": {},
   "outputs": [],
   "source": [
    "dataset=pd.read_csv(\"/home/jibril/Documents/REvoEstatePricePrediction/EncodedFinalDataset.csv\")\n",
    "dataset_no_duplicates = dataset.drop_duplicates()\n",
    "\n",
    "# Save the new dataset to a CSV file\n",
    "dataset_no_duplicates.to_csv('dataset_no_duplicates.csv', index=False)"
   ]
  },
  {
   "cell_type": "code",
   "execution_count": 20,
   "metadata": {},
   "outputs": [
    {
     "data": {
      "text/plain": [
       "(5250, 22)"
      ]
     },
     "execution_count": 20,
     "metadata": {},
     "output_type": "execute_result"
    }
   ],
   "source": [
    "dataset_no_duplicates = pd.read_csv('dataset_no_duplicates.csv')\n",
    "dataset_no_duplicates.shape"
   ]
  },
  {
   "cell_type": "code",
   "execution_count": 16,
   "metadata": {},
   "outputs": [
    {
     "data": {
      "text/plain": [
       "0    Bole\n",
       "Name: Address, dtype: object"
      ]
     },
     "execution_count": 16,
     "metadata": {},
     "output_type": "execute_result"
    }
   ],
   "source": [
    "dataset[\"Address\"].mode()"
   ]
  },
  {
   "cell_type": "code",
   "execution_count": 31,
   "metadata": {},
   "outputs": [
    {
     "name": "stdout",
     "output_type": "stream",
     "text": [
      "[np.float64(nan), np.float64(0.0), np.float64(1.0), np.float64(2.0), np.float64(3.0), np.float64(4.0), np.float64(5.0), np.float64(6.0), np.float64(7.0), np.float64(8.0), np.float64(9.0), np.float64(10.0), np.float64(12.0), np.float64(13.0), np.float64(14.0), np.float64(15.0), np.float64(18.0), np.float64(20.0), np.float64(62.0)]\n"
     ]
    }
   ],
   "source": [
    "dataset[\"Bedrooms\"].value_counts()\n",
    "print(sorted(dataset[\"Bathrooms\"].unique()))"
   ]
  },
  {
   "cell_type": "code",
   "execution_count": null,
   "metadata": {},
   "outputs": [
    {
     "name": "stdout",
     "output_type": "stream",
     "text": [
      "It occurs 4641 times\n"
     ]
    }
   ],
   "source": [
    "mode_count = dataset['Bedrooms'].value_counts().max()\n",
    "mode_count\n",
    "print(f\"It occurs {mode_count} times\")"
   ]
  },
  {
   "cell_type": "code",
   "execution_count": null,
   "metadata": {},
   "outputs": [],
   "source": []
  },
  {
   "cell_type": "code",
   "execution_count": null,
   "metadata": {},
   "outputs": [
    {
     "name": "stdout",
     "output_type": "stream",
     "text": [
      "Original shape: (7690, 9)\n",
      "Column names: ['Price', 'Bedrooms', 'Bathrooms', 'Land_Area', 'Year', 'Status', 'Furnished', 'Address', 'Property_Type']\n",
      "Data types:\n",
      " Price              int64\n",
      "Bedrooms         float64\n",
      "Bathrooms        float64\n",
      "Land_Area         object\n",
      "Year               int64\n",
      "Status            object\n",
      "Furnished         object\n",
      "Address           object\n",
      "Property_Type     object\n",
      "dtype: object\n",
      "First 5 rows:\n",
      "       Price  Bedrooms  Bathrooms Land_Area  Year    Status Furnished  \\\n",
      "0     70000       1.0        NaN       NaN  2025  For Rent       Yes   \n",
      "1    100000       3.0        NaN       NaN  2025  For Rent       Yes   \n",
      "2  31000000       5.0        3.0     350.0  2025  For Sale        No   \n",
      "3   9500000       NaN        NaN       NaN  2025  For Sale        No   \n",
      "4  15000000       NaN        NaN     120.0  2025  For Sale        No   \n",
      "\n",
      "         Address Property_Type  \n",
      "0           Yeka     Apartment  \n",
      "1      Lemi Kura     Apartment  \n",
      "2      Lemi Kura         Villa  \n",
      "3           Yeka     Apartment  \n",
      "4  Kolfe Keranio         Villa  \n",
      "Number of matching rows: 141\n",
      "Matching rows sample:\n",
      "           Price  Bedrooms  Bathrooms  Land_Area    Year    Status Furnished  \\\n",
      "587  12000000.0       2.0        2.0      107.0  2025.0  For Sale        No   \n",
      "607  12000000.0       2.0        2.0      107.0  2025.0  For Sale        No   \n",
      "625  12000000.0       2.0        2.0      107.0  2025.0  For Sale        No   \n",
      "666  12000000.0       2.0        2.0      107.0  2025.0  For Sale        No   \n",
      "725  12000000.0       2.0        2.0      107.0  2025.0  For Sale        No   \n",
      "\n",
      "    Address Property_Type  \n",
      "587    Bole     Apartment  \n",
      "607    Bole     Apartment  \n",
      "625    Bole     Apartment  \n",
      "666    Bole     Apartment  \n",
      "725    Bole     Apartment  \n",
      "Shape after filtering: (7549, 9)\n"
     ]
    }
   ],
   "source": [
    "import pandas as pd\n",
    "\n",
    "# Load the dataset, specifying comma as separator\n",
    "dataset = pd.read_csv(\"/home/jibril/Documents/REvoEstatePricePrediction/1Realestatedataset_modified.csv\", sep=',')\n",
    "print(\"Original shape:\", dataset.shape)\n",
    "print(\"Column names:\", dataset.columns.tolist())\n",
    "print(\"Data types:\\n\", dataset.dtypes)\n",
    "print(\"First 5 rows:\\n\", dataset.head())\n",
    "\n",
    "# Clean numeric columns by removing any lingering commas and converting to float\n",
    "for col in ['Price', 'Bedrooms', 'Bathrooms', 'Land_Area', 'Year']:\n",
    "    dataset[col] = dataset[col].astype(str).str.replace(',', '').astype(float)\n",
    "\n",
    "# Define the condition for the row\n",
    "condition = (\n",
    "    (dataset['Price'] == 6500000.0) &\n",
    "    (dataset['Bedrooms'] == 3.0) &\n",
    "    (dataset['Bathrooms'] == 2.0) &\n",
    "    (dataset['Land_Area'] == 154.0) &\n",
    "    (dataset['Year'] == 2025) &\n",
    "    (dataset['Status'].str.strip().str.lower() == 'for sale') &\n",
    "    (dataset['Furnished'].str.strip().str.lower() == 'no') &\n",
    "    (dataset['Address'].str.strip().str.lower() == 'bole') &\n",
    "    (dataset['Property_Type'].str.strip().str.lower() == 'apartment')\n",
    ")\n",
    "\n",
    "# Check matches\n",
    "matching_rows = dataset[condition]\n",
    "print(\"Number of matching rows:\", matching_rows.shape[0])\n",
    "print(\"Matching rows sample:\\n\", matching_rows.head())\n",
    "\n",
    "# Remove matches\n",
    "dataset_filtered = dataset[~condition]\n",
    "print(\"Shape after filtering:\", dataset_filtered.shape)\n",
    "\n",
    "# Save the updated dataset\n",
    "dataset_filtered.to_csv(\"/home/jibril/Documents/REvoEstatePricePrediction/1Realestatedataset_modified_updated.csv\", index=False)"
   ]
  },
  {
   "cell_type": "code",
   "execution_count": 38,
   "metadata": {},
   "outputs": [
    {
     "data": {
      "text/plain": [
       "(7692, 9)"
      ]
     },
     "execution_count": 38,
     "metadata": {},
     "output_type": "execute_result"
    }
   ],
   "source": [
    "dataset=pd.read_csv(\"/home/jibril/Documents/REvoEstatePricePrediction/1Realestatedataset_modified_updated.csv\")\n",
    "dataset.shape"
   ]
  },
  {
   "cell_type": "code",
   "execution_count": 54,
   "metadata": {},
   "outputs": [
    {
     "name": "stdout",
     "output_type": "stream",
     "text": [
      "Original shape: (7686, 9)\n",
      "Column names: ['Price', 'Bedrooms', 'Bathrooms', 'Land_Area', 'Year', 'Status', 'Furnished', 'Address', 'Property_Type']\n",
      "Data types:\n",
      " Price            float64\n",
      "Bedrooms         float64\n",
      "Bathrooms        float64\n",
      "Land_Area        float64\n",
      "Year             float64\n",
      "Status            object\n",
      "Furnished         object\n",
      "Address           object\n",
      "Property_Type     object\n",
      "dtype: object\n",
      "First 5 rows:\n",
      "         Price  Bedrooms  Bathrooms  Land_Area    Year    Status Furnished  \\\n",
      "0     70000.0       1.0        NaN        NaN  2025.0  For Rent       Yes   \n",
      "1    100000.0       3.0        NaN        NaN  2025.0  For Rent       Yes   \n",
      "2  31000000.0       5.0        3.0      350.0  2025.0  For Sale        No   \n",
      "3   9500000.0       NaN        NaN        NaN  2025.0  For Sale        No   \n",
      "4  15000000.0       NaN        NaN      120.0  2025.0  For Sale        No   \n",
      "\n",
      "         Address Property_Type  \n",
      "0           Yeka     Apartment  \n",
      "1      Lemi Kura     Apartment  \n",
      "2      Lemi Kura         Villa  \n",
      "3           Yeka     Apartment  \n",
      "4  Kolfe Keranio         Villa  \n",
      "Number of matching rows: 71\n",
      "Matching rows sample:\n",
      "            Price  Bedrooms  Bathrooms  Land_Area    Year    Status Furnished  \\\n",
      "817   17000000.0       3.0        2.0      145.0  2025.0  For Sale        No   \n",
      "992   17000000.0       3.0        2.0      145.0  2025.0  For Sale        No   \n",
      "1007  17000000.0       3.0        2.0      145.0  2025.0  For Sale        No   \n",
      "1703  17000000.0       3.0        2.0      145.0  2025.0  For Sale        No   \n",
      "1705  17000000.0       3.0        2.0      145.0  2025.0  For Sale        No   \n",
      "\n",
      "     Address Property_Type  \n",
      "817     Bole     Apartment  \n",
      "992     Bole     Apartment  \n",
      "1007    Bole     Apartment  \n",
      "1703    Bole     Apartment  \n",
      "1705    Bole     Apartment  \n",
      "Shape after filtering: (7615, 9)\n"
     ]
    }
   ],
   "source": [
    "import pandas as pd\n",
    "\n",
    "# Load the dataset, specifying comma as separator\n",
    "dataset = pd.read_csv(\"/home/jibril/Documents/REvoEstatePricePrediction/10Realestatedataset_modified_updated.csv\", sep=',')\n",
    "print(\"Original shape:\", dataset.shape)\n",
    "print(\"Column names:\", dataset.columns.tolist())\n",
    "print(\"Data types:\\n\", dataset.dtypes)\n",
    "print(\"First 5 rows:\\n\", dataset.head())\n",
    "\n",
    "# Clean numeric columns by removing any lingering commas and converting to float\n",
    "for col in ['Price', 'Bedrooms', 'Bathrooms', 'Land_Area', 'Year']:\n",
    "    dataset[col] = dataset[col].astype(str).str.replace(',', '').astype(float)\n",
    "\n",
    "# Define the condition for the row\n",
    "condition = (\n",
    "    (dataset['Price'] == 17000000.0) &\n",
    "    (dataset['Bedrooms'] == 3.0) &\n",
    "    (dataset['Bathrooms'] == 2.0) &\n",
    "    (dataset['Land_Area'] == 145.0) &\n",
    "    (dataset['Year'] == 2025.0) &\n",
    "    (dataset['Status'].str.strip().str.lower() == 'for sale') &\n",
    "    (dataset['Furnished'].str.strip().str.lower() == 'no') &\n",
    "    (dataset['Address'].str.strip().str.lower() == 'bole') &\n",
    "    (dataset['Property_Type'].str.strip().str.lower() == 'apartment')\n",
    ")\n",
    "\n",
    "# Check matches\n",
    "matching_rows = dataset[condition]\n",
    "print(\"Number of matching rows:\", matching_rows.shape[0])\n",
    "print(\"Matching rows sample:\\n\", matching_rows.head())\n",
    "\n",
    "# Remove matches\n",
    "dataset_filtered = dataset[~condition]\n",
    "print(\"Shape after filtering:\", dataset_filtered.shape)\n",
    "\n",
    "# Save the updated dataset\n",
    "dataset_filtered.to_csv(\"/home/jibril/Documents/REvoEstatePricePrediction/11Realestatedataset_modified_updated.csv\", index=False)"
   ]
  },
  {
   "cell_type": "code",
   "execution_count": 42,
   "metadata": {},
   "outputs": [
    {
     "data": {
      "text/plain": [
       "(7600, 9)"
      ]
     },
     "execution_count": 42,
     "metadata": {},
     "output_type": "execute_result"
    }
   ],
   "source": [
    "dataset=pd.read_csv(\"/home/jibril/Documents/REvoEstatePricePrediction/9Realestatedataset_modified_updated.csv\")\n",
    "dataset.shape"
   ]
  },
  {
   "cell_type": "code",
   "execution_count": 21,
   "metadata": {},
   "outputs": [],
   "source": [
    "df = pd.read_csv(\"/home/jibril/Documents/REvoEstatePricePrediction/dataset_no_duplicates.csv\")  \n",
    "\n",
    "\n",
    "max_threshold = 500_000_000\n",
    "df_filtered = df[df[\"Price\"] <= max_threshold]\n",
    "\n",
    "# Save to new CSV\n",
    "output_file = 'filtered_dataset.csv'\n",
    "df_filtered.to_csv(output_file, index=False)"
   ]
  },
  {
   "cell_type": "code",
   "execution_count": null,
   "metadata": {},
   "outputs": [],
   "source": []
  },
  {
   "cell_type": "code",
   "execution_count": null,
   "metadata": {},
   "outputs": [],
   "source": []
  }
 ],
 "metadata": {
  "kernelspec": {
   "display_name": "revo",
   "language": "python",
   "name": "python3"
  },
  "language_info": {
   "codemirror_mode": {
    "name": "ipython",
    "version": 3
   },
   "file_extension": ".py",
   "mimetype": "text/x-python",
   "name": "python",
   "nbconvert_exporter": "python",
   "pygments_lexer": "ipython3",
   "version": "3.11.8"
  }
 },
 "nbformat": 4,
 "nbformat_minor": 2
}
