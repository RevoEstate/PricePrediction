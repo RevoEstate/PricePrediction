{
 "cells": [
  {
   "cell_type": "code",
   "execution_count": 2,
   "metadata": {},
   "outputs": [],
   "source": [
    "import pandas as pd\n"
   ]
  },
  {
   "cell_type": "code",
   "execution_count": 50,
   "metadata": {},
   "outputs": [],
   "source": [
    "dataset=pd.read_csv(\"/home/jibril/Documents/REvoEstatePricePrediction/10Realestatedataset_modified_updated.csv\")"
   ]
  },
  {
   "cell_type": "code",
   "execution_count": 51,
   "metadata": {},
   "outputs": [
    {
     "data": {
      "text/plain": [
       "(7686, 9)"
      ]
     },
     "execution_count": 51,
     "metadata": {},
     "output_type": "execute_result"
    }
   ],
   "source": [
    "dataset.shape"
   ]
  },
  {
   "cell_type": "code",
   "execution_count": 51,
   "metadata": {},
   "outputs": [
    {
     "data": {
      "text/plain": [
       "Index(['Price', 'Bedrooms', 'Bathrooms', 'Land_Area', 'Year', 'Status',\n",
       "       'Furnished', 'Address', 'Property_Type'],\n",
       "      dtype='object')"
      ]
     },
     "execution_count": 51,
     "metadata": {},
     "output_type": "execute_result"
    }
   ],
   "source": [
    "dataset.columns"
   ]
  },
  {
   "cell_type": "code",
   "execution_count": 62,
   "metadata": {},
   "outputs": [
    {
     "data": {
      "text/plain": [
       "np.int64(3079)"
      ]
     },
     "execution_count": 62,
     "metadata": {},
     "output_type": "execute_result"
    }
   ],
   "source": [
    "dataset.duplicated().sum()"
   ]
  },
  {
   "cell_type": "code",
   "execution_count": 53,
   "metadata": {},
   "outputs": [
    {
     "data": {
      "text/html": [
       "<div>\n",
       "<style scoped>\n",
       "    .dataframe tbody tr th:only-of-type {\n",
       "        vertical-align: middle;\n",
       "    }\n",
       "\n",
       "    .dataframe tbody tr th {\n",
       "        vertical-align: top;\n",
       "    }\n",
       "\n",
       "    .dataframe thead th {\n",
       "        text-align: right;\n",
       "    }\n",
       "</style>\n",
       "<table border=\"1\" class=\"dataframe\">\n",
       "  <thead>\n",
       "    <tr style=\"text-align: right;\">\n",
       "      <th></th>\n",
       "      <th>Price</th>\n",
       "      <th>Bedrooms</th>\n",
       "      <th>Bathrooms</th>\n",
       "      <th>Land_Area</th>\n",
       "      <th>Year</th>\n",
       "      <th>Status</th>\n",
       "      <th>Furnished</th>\n",
       "      <th>Address</th>\n",
       "      <th>Property_Type</th>\n",
       "    </tr>\n",
       "  </thead>\n",
       "  <tbody>\n",
       "    <tr>\n",
       "      <th>6869</th>\n",
       "      <td>2.300000e+03</td>\n",
       "      <td>2.0</td>\n",
       "      <td>2.0</td>\n",
       "      <td>163.00</td>\n",
       "      <td>2025.0</td>\n",
       "      <td>For Rent</td>\n",
       "      <td>Yes</td>\n",
       "      <td>Bole</td>\n",
       "      <td>Apartment</td>\n",
       "    </tr>\n",
       "    <tr>\n",
       "      <th>6878</th>\n",
       "      <td>2.300000e+03</td>\n",
       "      <td>2.0</td>\n",
       "      <td>2.0</td>\n",
       "      <td>163.00</td>\n",
       "      <td>2025.0</td>\n",
       "      <td>For Rent</td>\n",
       "      <td>Yes</td>\n",
       "      <td>Bole</td>\n",
       "      <td>Apartment</td>\n",
       "    </tr>\n",
       "    <tr>\n",
       "      <th>7108</th>\n",
       "      <td>2.700000e+03</td>\n",
       "      <td>1.0</td>\n",
       "      <td>2.0</td>\n",
       "      <td>57.47</td>\n",
       "      <td>2024.0</td>\n",
       "      <td>For Rent</td>\n",
       "      <td>No</td>\n",
       "      <td>Bole</td>\n",
       "      <td>Apartment</td>\n",
       "    </tr>\n",
       "    <tr>\n",
       "      <th>7109</th>\n",
       "      <td>2.700000e+03</td>\n",
       "      <td>1.0</td>\n",
       "      <td>2.0</td>\n",
       "      <td>57.47</td>\n",
       "      <td>2024.0</td>\n",
       "      <td>For Rent</td>\n",
       "      <td>No</td>\n",
       "      <td>Bole</td>\n",
       "      <td>Apartment</td>\n",
       "    </tr>\n",
       "    <tr>\n",
       "      <th>4271</th>\n",
       "      <td>2.800000e+03</td>\n",
       "      <td>3.0</td>\n",
       "      <td>3.0</td>\n",
       "      <td>170.00</td>\n",
       "      <td>2025.0</td>\n",
       "      <td>For Rent</td>\n",
       "      <td>Yes</td>\n",
       "      <td>Kirkos</td>\n",
       "      <td>Apartment</td>\n",
       "    </tr>\n",
       "    <tr>\n",
       "      <th>...</th>\n",
       "      <td>...</td>\n",
       "      <td>...</td>\n",
       "      <td>...</td>\n",
       "      <td>...</td>\n",
       "      <td>...</td>\n",
       "      <td>...</td>\n",
       "      <td>...</td>\n",
       "      <td>...</td>\n",
       "      <td>...</td>\n",
       "    </tr>\n",
       "    <tr>\n",
       "      <th>6225</th>\n",
       "      <td>2.600000e+08</td>\n",
       "      <td>3.0</td>\n",
       "      <td>3.0</td>\n",
       "      <td>200.00</td>\n",
       "      <td>2025.0</td>\n",
       "      <td>For Rent</td>\n",
       "      <td>Yes</td>\n",
       "      <td>Bole</td>\n",
       "      <td>Apartment</td>\n",
       "    </tr>\n",
       "    <tr>\n",
       "      <th>3906</th>\n",
       "      <td>2.600000e+08</td>\n",
       "      <td>5.0</td>\n",
       "      <td>5.0</td>\n",
       "      <td>900.00</td>\n",
       "      <td>2025.0</td>\n",
       "      <td>For Sale</td>\n",
       "      <td>Yes</td>\n",
       "      <td>Bole</td>\n",
       "      <td>Apartment</td>\n",
       "    </tr>\n",
       "    <tr>\n",
       "      <th>3921</th>\n",
       "      <td>2.600000e+08</td>\n",
       "      <td>5.0</td>\n",
       "      <td>5.0</td>\n",
       "      <td>900.00</td>\n",
       "      <td>2025.0</td>\n",
       "      <td>For Sale</td>\n",
       "      <td>Yes</td>\n",
       "      <td>Bole</td>\n",
       "      <td>Apartment</td>\n",
       "    </tr>\n",
       "    <tr>\n",
       "      <th>1718</th>\n",
       "      <td>2.200000e+09</td>\n",
       "      <td>1.0</td>\n",
       "      <td>1.0</td>\n",
       "      <td>5000.00</td>\n",
       "      <td>2025.0</td>\n",
       "      <td>For Sale</td>\n",
       "      <td>No</td>\n",
       "      <td>Yeka</td>\n",
       "      <td>Apartment</td>\n",
       "    </tr>\n",
       "    <tr>\n",
       "      <th>3944</th>\n",
       "      <td>2.200000e+09</td>\n",
       "      <td>1.0</td>\n",
       "      <td>1.0</td>\n",
       "      <td>5000.00</td>\n",
       "      <td>2025.0</td>\n",
       "      <td>For Sale</td>\n",
       "      <td>No</td>\n",
       "      <td>Yeka</td>\n",
       "      <td>Apartment</td>\n",
       "    </tr>\n",
       "  </tbody>\n",
       "</table>\n",
       "<p>4123 rows × 9 columns</p>\n",
       "</div>"
      ],
      "text/plain": [
       "             Price  Bedrooms  Bathrooms  Land_Area    Year    Status  \\\n",
       "6869  2.300000e+03       2.0        2.0     163.00  2025.0  For Rent   \n",
       "6878  2.300000e+03       2.0        2.0     163.00  2025.0  For Rent   \n",
       "7108  2.700000e+03       1.0        2.0      57.47  2024.0  For Rent   \n",
       "7109  2.700000e+03       1.0        2.0      57.47  2024.0  For Rent   \n",
       "4271  2.800000e+03       3.0        3.0     170.00  2025.0  For Rent   \n",
       "...            ...       ...        ...        ...     ...       ...   \n",
       "6225  2.600000e+08       3.0        3.0     200.00  2025.0  For Rent   \n",
       "3906  2.600000e+08       5.0        5.0     900.00  2025.0  For Sale   \n",
       "3921  2.600000e+08       5.0        5.0     900.00  2025.0  For Sale   \n",
       "1718  2.200000e+09       1.0        1.0    5000.00  2025.0  For Sale   \n",
       "3944  2.200000e+09       1.0        1.0    5000.00  2025.0  For Sale   \n",
       "\n",
       "     Furnished Address Property_Type  \n",
       "6869       Yes    Bole     Apartment  \n",
       "6878       Yes    Bole     Apartment  \n",
       "7108        No    Bole     Apartment  \n",
       "7109        No    Bole     Apartment  \n",
       "4271       Yes  Kirkos     Apartment  \n",
       "...        ...     ...           ...  \n",
       "6225       Yes    Bole     Apartment  \n",
       "3906       Yes    Bole     Apartment  \n",
       "3921       Yes    Bole     Apartment  \n",
       "1718        No    Yeka     Apartment  \n",
       "3944        No    Yeka     Apartment  \n",
       "\n",
       "[4123 rows x 9 columns]"
      ]
     },
     "execution_count": 53,
     "metadata": {},
     "output_type": "execute_result"
    }
   ],
   "source": [
    "dataset[dataset.duplicated(keep=False)].sort_values(by=dataset.columns.tolist())"
   ]
  },
  {
   "cell_type": "code",
   "execution_count": null,
   "metadata": {},
   "outputs": [
    {
     "name": "stdout",
     "output_type": "stream",
     "text": [
      "Price       Bedrooms  Bathrooms  Land_Area  Year    Status    Furnished  Address           Property_Type\n",
      "110000.0    2.0       2.0        90.0       2025.0  For Rent  Yes        Kirkos            Apartment        79\n",
      "85000.0     2.0       1.0        113.0      2025.0  For Rent  Yes        Bole              Apartment        76\n",
      "17000000.0  3.0       2.0        145.0      2025.0  For Sale  No         Bole              Apartment        71\n",
      "160000.0    3.0       3.0        200.0      2025.0  For Rent  Yes        Bole              Apartment        64\n",
      "5500000.0   2.0       2.0        88.0       2025.0  For Sale  Yes        Yeka              Apartment        60\n",
      "15000000.0  3.0       3.0        179.0      2025.0  For Sale  No         Bole              Apartment        51\n",
      "120000.0    3.0       2.0        120.0      2025.0  For Rent  Yes        Bole              Apartment        35\n",
      "17000000.0  3.0       2.0        199.0      2025.0  For Sale  No         Bole              Apartment        31\n",
      "14880000.0  2.0       3.0        158.0      2025.0  For Sale  No         Bole              Apartment        29\n",
      "8000000.0   2.0       2.0        135.0      2025.0  For Sale  No         Nifas Silk-Lafto  Apartment        28\n",
      "Name: count, dtype: int64\n"
     ]
    }
   ],
   "source": [
    "row_counts = dataset.value_counts()\n",
    "print(row_counts[:20])"
   ]
  },
  {
   "cell_type": "code",
   "execution_count": 30,
   "metadata": {},
   "outputs": [
    {
     "data": {
      "text/plain": [
       "Price        Bedrooms  Bathrooms  Land_Area  Year    Status    Furnished  Address           Property_Type\n",
       "17000000.0   3.0       2.0        167.0      2025.0  For Sale  No         Bole              Apartment        93\n",
       "6500000.0    3.0       2.0        154.0      2025.0  For Sale  No         Bole              Apartment        88\n",
       "12000000.0   3.0       2.0        145.0      2025.0  For Sale  No         Bole              Apartment        87\n",
       "11000000.0   2.0       2.0        104.0      2025.0  For Sale  No         Bole              Apartment        83\n",
       "110000.0     2.0       2.0        90.0       2025.0  For Rent  Yes        Kirkos            Apartment        79\n",
       "85000.0      2.0       1.0        113.0      2025.0  For Rent  Yes        Bole              Apartment        76\n",
       "17000000.0   3.0       2.0        145.0      2025.0  For Sale  No         Bole              Apartment        71\n",
       "160000.0     3.0       3.0        200.0      2025.0  For Rent  Yes        Bole              Apartment        64\n",
       "5500000.0    2.0       2.0        88.0       2025.0  For Sale  Yes        Yeka              Apartment        60\n",
       "15000000.0   3.0       3.0        179.0      2025.0  For Sale  No         Bole              Apartment        51\n",
       "120000.0     3.0       2.0        120.0      2025.0  For Rent  Yes        Bole              Apartment        35\n",
       "17000000.0   3.0       2.0        199.0      2025.0  For Sale  No         Bole              Apartment        30\n",
       "14880000.0   2.0       3.0        158.0      2025.0  For Sale  No         Bole              Apartment        29\n",
       "8000000.0    2.0       2.0        135.0      2025.0  For Sale  No         Nifas Silk-Lafto  Apartment        28\n",
       "100000.0     3.0       3.0        200.0      2025.0  For Rent  Yes        Bole              Apartment        27\n",
       "50000.0      1.0       1.0        89.0       2025.0  For Rent  Yes        Bole              Apartment        27\n",
       "150000.0     3.0       2.0        150.0      2025.0  For Rent  No         Yeka              Apartment        22\n",
       "10000000.0   2.0       2.0        140.0      2025.0  For Sale  No         Bole              Apartment        21\n",
       "5000000.0    1.0       1.0        63.0       2024.0  For Sale  Yes        Yeka              Apartment        19\n",
       "16500000.0   4.0       2.0        198.0      2025.0  For Sale  Yes        Bole              Apartment        15\n",
       "79990.0      3.0       2.0        140.0      2024.0  For Rent  Yes        Yeka              Apartment        14\n",
       "79900.0      1.0       1.0        63.0       2024.0  For Rent  Yes        Yeka              Apartment        11\n",
       "80000.0      7.0       5.0        175.0      2025.0  For Rent  No         Bole              Villa            11\n",
       "12190000.0   2.0       2.0        106.0      2025.0  For Sale  No         Bole              Apartment        10\n",
       "90000.0      3.0       2.0        190.0      2024.0  For Rent  Yes        Lemi Kura         Apartment        10\n",
       "19500000.0   2.0       1.0        166.0      2025.0  For Sale  Yes        Bole              Apartment         8\n",
       "12700000.0   3.0       2.0        145.0      2025.0  For Sale  No         Bole              Apartment         8\n",
       "75000.0      3.0       3.0        215.0      2025.0  For Rent  No         Yeka              Apartment         8\n",
       "80000.0      1.0       1.0        80.0       2025.0  For Rent  Yes        Yeka              Apartment         6\n",
       "12500000.0   3.0       2.0        115.0      2025.0  For Sale  No         Bole              Apartment         6\n",
       "260000000.0  3.0       3.0        200.0      2025.0  For Rent  Yes        Bole              Apartment         6\n",
       "45000.0      3.0       3.0        128.0      2025.0  For Rent  No         Yeka              Apartment         6\n",
       "55000.0      3.0       3.0        151.0      2025.0  For Rent  No         Yeka              Apartment         6\n",
       "45000.0      3.0       3.0        154.0      2025.0  For Rent  No         Bole              Apartment         5\n",
       "80000.0      1.0       1.0        100.0      2025.0  For Rent  Yes        Bole              Apartment         5\n",
       "110000.0     2.0       2.0        145.0      2025.0  For Sale  No         Bole              Apartment         5\n",
       "40000.0      3.0       2.0        115.0      2025.0  For Rent  No         Bole              Apartment         5\n",
       "13500000.0   3.0       2.0        115.0      2025.0  For Sale  No         Bole              Apartment         5\n",
       "79900.0      2.0       2.0        109.0      2024.0  For Rent  Yes        Yeka              Apartment         5\n",
       "30000000.0   5.0       3.0        250.0      2025.0  For Sale  No         Bole              Villa             5\n",
       "16000000.0   3.0       3.0        179.0      2025.0  For Sale  No         Bole              Apartment         5\n",
       "31000000.0   5.0       6.0        156.0      2024.0  For Sale  Yes        Akaky Kaliti      Villa             5\n",
       "6000000.0    1.0       1.0        79.0       2024.0  For Sale  Yes        Lemi Kura         Apartment         5\n",
       "17000000.0   3.0       3.0        150.0      2025.0  For Sale  No         Bole              Villa             5\n",
       "12000000.0   3.0       2.0        110.0      2025.0  For Sale  No         Bole              Apartment         5\n",
       "30000000.0   3.0       3.0        250.0      2025.0  For Sale  No         Bole              Villa             5\n",
       "55000.0      3.0       2.0        145.0      2025.0  For Rent  No         Yeka              Apartment         5\n",
       "27000000.0   3.0       3.0        250.0      2025.0  For Sale  No         Bole              Villa             5\n",
       "90000.0      3.0       3.0        150.0      2025.0  For Rent  Yes        Bole              Apartment         5\n",
       "19000000.0   3.0       3.0        150.0      2025.0  For Sale  No         Bole              Villa             4\n",
       "Name: count, dtype: int64"
      ]
     },
     "execution_count": 30,
     "metadata": {},
     "output_type": "execute_result"
    }
   ],
   "source": [
    "row_counts[:50]"
   ]
  },
  {
   "cell_type": "code",
   "execution_count": 16,
   "metadata": {},
   "outputs": [
    {
     "data": {
      "text/plain": [
       "0    Bole\n",
       "Name: Address, dtype: object"
      ]
     },
     "execution_count": 16,
     "metadata": {},
     "output_type": "execute_result"
    }
   ],
   "source": [
    "dataset[\"Address\"].mode()"
   ]
  },
  {
   "cell_type": "code",
   "execution_count": 31,
   "metadata": {},
   "outputs": [
    {
     "name": "stdout",
     "output_type": "stream",
     "text": [
      "[np.float64(nan), np.float64(0.0), np.float64(1.0), np.float64(2.0), np.float64(3.0), np.float64(4.0), np.float64(5.0), np.float64(6.0), np.float64(7.0), np.float64(8.0), np.float64(9.0), np.float64(10.0), np.float64(12.0), np.float64(13.0), np.float64(14.0), np.float64(15.0), np.float64(18.0), np.float64(20.0), np.float64(62.0)]\n"
     ]
    }
   ],
   "source": [
    "dataset[\"Bedrooms\"].value_counts()\n",
    "print(sorted(dataset[\"Bathrooms\"].unique()))"
   ]
  },
  {
   "cell_type": "code",
   "execution_count": null,
   "metadata": {},
   "outputs": [
    {
     "name": "stdout",
     "output_type": "stream",
     "text": [
      "It occurs 4641 times\n"
     ]
    }
   ],
   "source": [
    "mode_count = dataset['Bedrooms'].value_counts().max()\n",
    "mode_count\n",
    "print(f\"It occurs {mode_count} times\")"
   ]
  },
  {
   "cell_type": "code",
   "execution_count": null,
   "metadata": {},
   "outputs": [],
   "source": [
    "Price      Bedrooms  Bathrooms  Land_Area  Year  Status    Furnished  Address           Property_Type\n",
    "12000000   2.0       2.0        107        2025  For Sale  No         Bole              Apartment        141\n",
    "90000      5.0       4.0        500        2025  For Rent  No         Bole              Villa            131\n",
    "2000000    15.0      13.0       900        2025  For Rent  No         Bole              Apartment        123\n",
    "431000     1.0       2.0        71         2025  For Sale  No         Nifas Silk-Lafto  Apartment        122\n",
    "85000      2.0       1.0        113        2025  For Rent  Yes        Bole              Apartment        112\n",
    "14000000   2.0       2.0        119        2025  For Sale  No         Kirkos            Apartment        108\n",
    "32000000   3.0       2.0        179        2025  For Sale  No         Bole              Apartment        102\n",
    "17000000   3.0       2.0        167        2025  For Sale  No         Bole              Apartment         93\n",
    "6500000    3.0       2.0        154        2025  For Sale  No         Bole              Apartment         88\n",
    "12000000   3.0       2.0        145        2025  For Sale  No         Bole              Apartment         87\n",
    "11000000   2.0       2.0        104        2025  For Sale  No         Bole              Apartment         83\n",
    "110000     2.0       2.0        90         2025  For Rent  Yes        Kirkos            Apartment         79\n",
    "17000000   3.0       2.0        145        2025  For Sale  No         Bole              Apartment         71\n",
    "160000     3.0       3.0        200        2025  For Rent  Yes        Bole              Apartment         64\n",
    "5500000    2.0       2.0        88         2025  For Sale  Yes        Yeka              Apartment         60\n",
    "15000000   3.0       3.0        179        2025  For Sale  No         Bole              Apartment         51\n",
    "120000     3.0       2.0        120        2025  For Rent  Yes        Bole              Apartment         35\n",
    "17000000   3.0       2.0        199        2025  For Sale  No         Bole              Apartment         30\n",
    "14880000   2.0       3.0        158        2025  For Sale  No         Bole              Apartment         29\n",
    "8000000    2.0       2.0        135        2025  For Sale  No         Nifas Silk-Lafto  Apartment         28\n",
    "100000     3.0       3.0        200        2025  For Rent  Yes        Bole              Apartment         27\n",
    "50000      1.0       1.0        89         2025  For Rent  Yes        Bole              Apartment         27\n",
    "150000     3.0       2.0        150        2025  For Rent  No         Yeka              Apartment         22\n",
    "10000000   2.0       2.0        140        2025  For Sale  No         Bole              Apartment         21\n"
   ]
  },
  {
   "cell_type": "code",
   "execution_count": null,
   "metadata": {},
   "outputs": [
    {
     "name": "stdout",
     "output_type": "stream",
     "text": [
      "Original shape: (7690, 9)\n",
      "Column names: ['Price', 'Bedrooms', 'Bathrooms', 'Land_Area', 'Year', 'Status', 'Furnished', 'Address', 'Property_Type']\n",
      "Data types:\n",
      " Price              int64\n",
      "Bedrooms         float64\n",
      "Bathrooms        float64\n",
      "Land_Area         object\n",
      "Year               int64\n",
      "Status            object\n",
      "Furnished         object\n",
      "Address           object\n",
      "Property_Type     object\n",
      "dtype: object\n",
      "First 5 rows:\n",
      "       Price  Bedrooms  Bathrooms Land_Area  Year    Status Furnished  \\\n",
      "0     70000       1.0        NaN       NaN  2025  For Rent       Yes   \n",
      "1    100000       3.0        NaN       NaN  2025  For Rent       Yes   \n",
      "2  31000000       5.0        3.0     350.0  2025  For Sale        No   \n",
      "3   9500000       NaN        NaN       NaN  2025  For Sale        No   \n",
      "4  15000000       NaN        NaN     120.0  2025  For Sale        No   \n",
      "\n",
      "         Address Property_Type  \n",
      "0           Yeka     Apartment  \n",
      "1      Lemi Kura     Apartment  \n",
      "2      Lemi Kura         Villa  \n",
      "3           Yeka     Apartment  \n",
      "4  Kolfe Keranio         Villa  \n",
      "Number of matching rows: 141\n",
      "Matching rows sample:\n",
      "           Price  Bedrooms  Bathrooms  Land_Area    Year    Status Furnished  \\\n",
      "587  12000000.0       2.0        2.0      107.0  2025.0  For Sale        No   \n",
      "607  12000000.0       2.0        2.0      107.0  2025.0  For Sale        No   \n",
      "625  12000000.0       2.0        2.0      107.0  2025.0  For Sale        No   \n",
      "666  12000000.0       2.0        2.0      107.0  2025.0  For Sale        No   \n",
      "725  12000000.0       2.0        2.0      107.0  2025.0  For Sale        No   \n",
      "\n",
      "    Address Property_Type  \n",
      "587    Bole     Apartment  \n",
      "607    Bole     Apartment  \n",
      "625    Bole     Apartment  \n",
      "666    Bole     Apartment  \n",
      "725    Bole     Apartment  \n",
      "Shape after filtering: (7549, 9)\n"
     ]
    }
   ],
   "source": [
    "import pandas as pd\n",
    "\n",
    "# Load the dataset, specifying comma as separator\n",
    "dataset = pd.read_csv(\"/home/jibril/Documents/REvoEstatePricePrediction/1Realestatedataset_modified.csv\", sep=',')\n",
    "print(\"Original shape:\", dataset.shape)\n",
    "print(\"Column names:\", dataset.columns.tolist())\n",
    "print(\"Data types:\\n\", dataset.dtypes)\n",
    "print(\"First 5 rows:\\n\", dataset.head())\n",
    "\n",
    "# Clean numeric columns by removing any lingering commas and converting to float\n",
    "for col in ['Price', 'Bedrooms', 'Bathrooms', 'Land_Area', 'Year']:\n",
    "    dataset[col] = dataset[col].astype(str).str.replace(',', '').astype(float)\n",
    "6500000.0   3.0       2.0        154.0      2025.0  For Sale  No         Bole     Apartment        88\n",
    "\n",
    "# Define the condition for the row\n",
    "condition = (\n",
    "    (dataset['Price'] == 6500000.0) &\n",
    "    (dataset['Bedrooms'] == 3.0) &\n",
    "    (dataset['Bathrooms'] == 2.0) &\n",
    "    (dataset['Land_Area'] == 154.0) &\n",
    "    (dataset['Year'] == 2025) &\n",
    "    (dataset['Status'].str.strip().str.lower() == 'for sale') &\n",
    "    (dataset['Furnished'].str.strip().str.lower() == 'no') &\n",
    "    (dataset['Address'].str.strip().str.lower() == 'bole') &\n",
    "    (dataset['Property_Type'].str.strip().str.lower() == 'apartment')\n",
    ")\n",
    "\n",
    "# Check matches\n",
    "matching_rows = dataset[condition]\n",
    "print(\"Number of matching rows:\", matching_rows.shape[0])\n",
    "print(\"Matching rows sample:\\n\", matching_rows.head())\n",
    "\n",
    "# Remove matches\n",
    "dataset_filtered = dataset[~condition]\n",
    "print(\"Shape after filtering:\", dataset_filtered.shape)\n",
    "\n",
    "# Save the updated dataset\n",
    "dataset_filtered.to_csv(\"/home/jibril/Documents/REvoEstatePricePrediction/1Realestatedataset_modified_updated.csv\", index=False)"
   ]
  },
  {
   "cell_type": "code",
   "execution_count": 38,
   "metadata": {},
   "outputs": [
    {
     "data": {
      "text/plain": [
       "(7692, 9)"
      ]
     },
     "execution_count": 38,
     "metadata": {},
     "output_type": "execute_result"
    }
   ],
   "source": [
    "dataset=pd.read_csv(\"/home/jibril/Documents/REvoEstatePricePrediction/1Realestatedataset_modified_updated.csv\")\n",
    "dataset.shape"
   ]
  },
  {
   "cell_type": "code",
   "execution_count": 46,
   "metadata": {},
   "outputs": [
    {
     "name": "stdout",
     "output_type": "stream",
     "text": [
      "Original shape: (7686, 9)\n",
      "Column names: ['Price', 'Bedrooms', 'Bathrooms', 'Land_Area', 'Year', 'Status', 'Furnished', 'Address', 'Property_Type']\n",
      "Data types:\n",
      " Price            float64\n",
      "Bedrooms         float64\n",
      "Bathrooms        float64\n",
      "Land_Area        float64\n",
      "Year             float64\n",
      "Status            object\n",
      "Furnished         object\n",
      "Address           object\n",
      "Property_Type     object\n",
      "dtype: object\n",
      "First 5 rows:\n",
      "         Price  Bedrooms  Bathrooms  Land_Area    Year    Status Furnished  \\\n",
      "0     70000.0       1.0        NaN        NaN  2025.0  For Rent       Yes   \n",
      "1    100000.0       3.0        NaN        NaN  2025.0  For Rent       Yes   \n",
      "2  31000000.0       5.0        3.0      350.0  2025.0  For Sale        No   \n",
      "3   9500000.0       NaN        NaN        NaN  2025.0  For Sale        No   \n",
      "4  15000000.0       NaN        NaN      120.0  2025.0  For Sale        No   \n",
      "\n",
      "         Address Property_Type  \n",
      "0           Yeka     Apartment  \n",
      "1      Lemi Kura     Apartment  \n",
      "2      Lemi Kura         Villa  \n",
      "3           Yeka     Apartment  \n",
      "4  Kolfe Keranio         Villa  \n",
      "Number of matching rows: 85\n",
      "Matching rows sample:\n",
      "            Price  Bedrooms  Bathrooms  Land_Area    Year    Status Furnished  \\\n",
      "832   11000000.0       2.0        2.0      104.0  2025.0  For Sale        No   \n",
      "979   11000000.0       2.0        2.0      104.0  2025.0  For Sale        No   \n",
      "1032  11000000.0       2.0        2.0      104.0  2025.0  For Sale        No   \n",
      "1042  11000000.0       2.0        2.0      104.0  2025.0  For Sale        No   \n",
      "1626  11000000.0       2.0        2.0      104.0  2025.0  For Sale        No   \n",
      "\n",
      "     Address Property_Type  \n",
      "832     Bole     Apartment  \n",
      "979     Bole     Apartment  \n",
      "1032    Bole     Apartment  \n",
      "1042    Bole     Apartment  \n",
      "1626    Bole     Apartment  \n",
      "Shape after filtering: (7601, 9)\n"
     ]
    }
   ],
   "source": [
    "import pandas as pd\n",
    "\n",
    "# Load the dataset, specifying comma as separator\n",
    "dataset = pd.read_csv(\"/home/jibril/Documents/REvoEstatePricePrediction/9Realestatedataset_modified_updated.csv\", sep=',')\n",
    "print(\"Original shape:\", dataset.shape)\n",
    "print(\"Column names:\", dataset.columns.tolist())\n",
    "print(\"Data types:\\n\", dataset.dtypes)\n",
    "print(\"First 5 rows:\\n\", dataset.head())\n",
    "\n",
    "# Clean numeric columns by removing any lingering commas and converting to float\n",
    "for col in ['Price', 'Bedrooms', 'Bathrooms', 'Land_Area', 'Year']:\n",
    "    dataset[col] = dataset[col].astype(str).str.replace(',', '').astype(float)\n",
    "\n",
    "# Define the condition for the row\n",
    "condition = (\n",
    "    (dataset['Price'] == 11000000.0) &\n",
    "    (dataset['Bedrooms'] == 2.0) &\n",
    "    (dataset['Bathrooms'] == 2.0) &\n",
    "    (dataset['Land_Area'] == 104.0) &\n",
    "    (dataset['Year'] == 2025.0) &\n",
    "    (dataset['Status'].str.strip().str.lower() == 'for sale') &\n",
    "    (dataset['Furnished'].str.strip().str.lower() == 'no') &\n",
    "    (dataset['Address'].str.strip().str.lower() == 'bole') &\n",
    "    (dataset['Property_Type'].str.strip().str.lower() == 'apartment')\n",
    ")\n",
    "\n",
    "# Check matches\n",
    "matching_rows = dataset[condition]\n",
    "print(\"Number of matching rows:\", matching_rows.shape[0])\n",
    "print(\"Matching rows sample:\\n\", matching_rows.head())\n",
    "\n",
    "# Remove matches\n",
    "dataset_filtered = dataset[~condition]\n",
    "print(\"Shape after filtering:\", dataset_filtered.shape)\n",
    "\n",
    "# Save the updated dataset\n",
    "dataset_filtered.to_csv(\"/home/jibril/Documents/REvoEstatePricePrediction/10Realestatedataset_modified_updated.csv\", index=False)"
   ]
  },
  {
   "cell_type": "code",
   "execution_count": 42,
   "metadata": {},
   "outputs": [
    {
     "data": {
      "text/plain": [
       "(7600, 9)"
      ]
     },
     "execution_count": 42,
     "metadata": {},
     "output_type": "execute_result"
    }
   ],
   "source": [
    "dataset=pd.read_csv(\"/home/jibril/Documents/REvoEstatePricePrediction/9Realestatedataset_modified_updated.csv\")\n",
    "dataset.shape"
   ]
  },
  {
   "cell_type": "code",
   "execution_count": null,
   "metadata": {},
   "outputs": [],
   "source": [
    "12000000.0  3.0       2.0        145.0      2025.0  For Sale  No         Bole     Apartment        87\n"
   ]
  },
  {
   "cell_type": "code",
   "execution_count": null,
   "metadata": {},
   "outputs": [],
   "source": [
    "12000000.0,3.0,2.0,145.0,2025.0,For Sale,No,Bole,Apartment\n",
    "12700000.0,3.0,2.0,145.0,2025.0,For Sale,No,Bole,Apartment\n",
    "11000000.0,2.0,2.0,104.0,2025.0,For Sale,No,Bole,Apartment\n",
    "12200000.0,2.0,2.0,121.0,2025.0,For Sale,No,Bole,Apartment\n",
    "11000000.0,3.0,2.0,209.0,2025.0,For Sale,No,Kirkos,Apartment\n",
    "11000000.0,2.0,2.0,98.0,2025.0,For Sale,No,Bole,Apartment\n",
    "12000000.0,3.0,2.0,114.0,2025.0,For Sale,Yes,Bole,Apartment\n",
    "11800000.0,3.0,3.0,151.0,2025.0,For Sale,No,Bole,Apartment\n",
    "12000000.0,2.0,2.0,107.0,2025.0,For Sale,No,Bole,Apartment\n",
    "11500000.0,2.0,2.0,89.0,2025.0,For Sale,Yes,Bole,Apartment\n",
    "12000000.0,3.0,2.0,115.0,2025.0,For Sale,No,Bole,Apartment\n",
    "11000000.0,6.0,4.0,250.0,2025.0,For Sale,No,Yeka,Apartment\n",
    "11000000.0,2.0,2.0,104.0,2025.0,For Sale,No,Bole,Apartment\n",
    "\n"
   ]
  },
  {
   "cell_type": "code",
   "execution_count": null,
   "metadata": {},
   "outputs": [],
   "source": []
  }
 ],
 "metadata": {
  "kernelspec": {
   "display_name": "revo",
   "language": "python",
   "name": "python3"
  },
  "language_info": {
   "codemirror_mode": {
    "name": "ipython",
    "version": 3
   },
   "file_extension": ".py",
   "mimetype": "text/x-python",
   "name": "python",
   "nbconvert_exporter": "python",
   "pygments_lexer": "ipython3",
   "version": "3.11.8"
  }
 },
 "nbformat": 4,
 "nbformat_minor": 2
}
