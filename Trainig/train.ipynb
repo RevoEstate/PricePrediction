{
 "cells": [
  {
   "cell_type": "code",
   "execution_count": 26,
   "metadata": {},
   "outputs": [],
   "source": [
    "import pandas as pd\n",
    "import torch\n",
    "import torch.nn as nn\n",
    "import torch.nn.functional as F\n",
    "from sklearn.model_selection import train_test_split\n",
    "from torch.utils.data import TensorDataset, DataLoader\n",
    "import numpy as np\n"
   ]
  },
  {
   "cell_type": "code",
   "execution_count": 27,
   "metadata": {},
   "outputs": [],
   "source": [
    "dataset=pd.read_csv('/home/jibril/Documents/REvoEstatePricePrediction/EncodedFinalDataset.csv')\n",
    "# dataset=pd.read_csv('/home/jibril/Documents/REvoEstatePricePrediction/NoDupFinaldatasetEncoded.csv')"
   ]
  },
  {
   "cell_type": "code",
   "execution_count": 28,
   "metadata": {},
   "outputs": [
    {
     "data": {
      "text/plain": [
       "device(type='cpu')"
      ]
     },
     "execution_count": 28,
     "metadata": {},
     "output_type": "execute_result"
    }
   ],
   "source": [
    "device = torch.device(\"cuda\" if torch.cuda.is_available() else \"cpu\")\n",
    "device\n"
   ]
  },
  {
   "cell_type": "code",
   "execution_count": 29,
   "metadata": {},
   "outputs": [],
   "source": [
    "from torcheval.metrics import R2Score\n"
   ]
  },
  {
   "cell_type": "code",
   "execution_count": 30,
   "metadata": {},
   "outputs": [
    {
     "data": {
      "text/html": [
       "<div>\n",
       "<style scoped>\n",
       "    .dataframe tbody tr th:only-of-type {\n",
       "        vertical-align: middle;\n",
       "    }\n",
       "\n",
       "    .dataframe tbody tr th {\n",
       "        vertical-align: top;\n",
       "    }\n",
       "\n",
       "    .dataframe thead th {\n",
       "        text-align: right;\n",
       "    }\n",
       "</style>\n",
       "<table border=\"1\" class=\"dataframe\">\n",
       "  <thead>\n",
       "    <tr style=\"text-align: right;\">\n",
       "      <th></th>\n",
       "      <th>Price</th>\n",
       "      <th>Bedrooms</th>\n",
       "      <th>Bathrooms</th>\n",
       "      <th>Land_Area</th>\n",
       "      <th>Year</th>\n",
       "      <th>Status_For Rent</th>\n",
       "      <th>Status_For Sale</th>\n",
       "      <th>Furnished_No</th>\n",
       "      <th>Furnished_Yes</th>\n",
       "      <th>Address_Addis Ketema</th>\n",
       "      <th>...</th>\n",
       "      <th>Address_Bole</th>\n",
       "      <th>Address_Gullele</th>\n",
       "      <th>Address_Kirkos</th>\n",
       "      <th>Address_Kolfe Keranio</th>\n",
       "      <th>Address_Lemi Kura</th>\n",
       "      <th>Address_Lideta</th>\n",
       "      <th>Address_Nifas Silk-Lafto</th>\n",
       "      <th>Address_Yeka</th>\n",
       "      <th>Property_Type_Apartment</th>\n",
       "      <th>Property_Type_Villa</th>\n",
       "    </tr>\n",
       "  </thead>\n",
       "  <tbody>\n",
       "    <tr>\n",
       "      <th>0</th>\n",
       "      <td>70000.0</td>\n",
       "      <td>1.0</td>\n",
       "      <td>2.0</td>\n",
       "      <td>148.0</td>\n",
       "      <td>2025.0</td>\n",
       "      <td>1.0</td>\n",
       "      <td>0.0</td>\n",
       "      <td>0.0</td>\n",
       "      <td>1.0</td>\n",
       "      <td>0.0</td>\n",
       "      <td>...</td>\n",
       "      <td>0.0</td>\n",
       "      <td>0.0</td>\n",
       "      <td>0.0</td>\n",
       "      <td>0.0</td>\n",
       "      <td>0.0</td>\n",
       "      <td>0.0</td>\n",
       "      <td>0.0</td>\n",
       "      <td>1.0</td>\n",
       "      <td>1.0</td>\n",
       "      <td>0.0</td>\n",
       "    </tr>\n",
       "    <tr>\n",
       "      <th>1</th>\n",
       "      <td>100000.0</td>\n",
       "      <td>3.0</td>\n",
       "      <td>2.0</td>\n",
       "      <td>148.0</td>\n",
       "      <td>2025.0</td>\n",
       "      <td>1.0</td>\n",
       "      <td>0.0</td>\n",
       "      <td>0.0</td>\n",
       "      <td>1.0</td>\n",
       "      <td>0.0</td>\n",
       "      <td>...</td>\n",
       "      <td>0.0</td>\n",
       "      <td>0.0</td>\n",
       "      <td>0.0</td>\n",
       "      <td>0.0</td>\n",
       "      <td>1.0</td>\n",
       "      <td>0.0</td>\n",
       "      <td>0.0</td>\n",
       "      <td>0.0</td>\n",
       "      <td>1.0</td>\n",
       "      <td>0.0</td>\n",
       "    </tr>\n",
       "    <tr>\n",
       "      <th>2</th>\n",
       "      <td>31000000.0</td>\n",
       "      <td>5.0</td>\n",
       "      <td>3.0</td>\n",
       "      <td>350.0</td>\n",
       "      <td>2025.0</td>\n",
       "      <td>0.0</td>\n",
       "      <td>1.0</td>\n",
       "      <td>1.0</td>\n",
       "      <td>0.0</td>\n",
       "      <td>0.0</td>\n",
       "      <td>...</td>\n",
       "      <td>0.0</td>\n",
       "      <td>0.0</td>\n",
       "      <td>0.0</td>\n",
       "      <td>0.0</td>\n",
       "      <td>1.0</td>\n",
       "      <td>0.0</td>\n",
       "      <td>0.0</td>\n",
       "      <td>0.0</td>\n",
       "      <td>0.0</td>\n",
       "      <td>1.0</td>\n",
       "    </tr>\n",
       "  </tbody>\n",
       "</table>\n",
       "<p>3 rows × 22 columns</p>\n",
       "</div>"
      ],
      "text/plain": [
       "        Price  Bedrooms  Bathrooms  Land_Area    Year  Status_For Rent  \\\n",
       "0     70000.0       1.0        2.0      148.0  2025.0              1.0   \n",
       "1    100000.0       3.0        2.0      148.0  2025.0              1.0   \n",
       "2  31000000.0       5.0        3.0      350.0  2025.0              0.0   \n",
       "\n",
       "   Status_For Sale  Furnished_No  Furnished_Yes  Address_Addis Ketema  ...  \\\n",
       "0              0.0           0.0            1.0                   0.0  ...   \n",
       "1              0.0           0.0            1.0                   0.0  ...   \n",
       "2              1.0           1.0            0.0                   0.0  ...   \n",
       "\n",
       "   Address_Bole  Address_Gullele  Address_Kirkos  Address_Kolfe Keranio  \\\n",
       "0           0.0              0.0             0.0                    0.0   \n",
       "1           0.0              0.0             0.0                    0.0   \n",
       "2           0.0              0.0             0.0                    0.0   \n",
       "\n",
       "   Address_Lemi Kura  Address_Lideta  Address_Nifas Silk-Lafto  Address_Yeka  \\\n",
       "0                0.0             0.0                       0.0           1.0   \n",
       "1                1.0             0.0                       0.0           0.0   \n",
       "2                1.0             0.0                       0.0           0.0   \n",
       "\n",
       "   Property_Type_Apartment  Property_Type_Villa  \n",
       "0                      1.0                  0.0  \n",
       "1                      1.0                  0.0  \n",
       "2                      0.0                  1.0  \n",
       "\n",
       "[3 rows x 22 columns]"
      ]
     },
     "execution_count": 30,
     "metadata": {},
     "output_type": "execute_result"
    }
   ],
   "source": [
    "dataset.head(3)"
   ]
  },
  {
   "cell_type": "code",
   "execution_count": 31,
   "metadata": {},
   "outputs": [
    {
     "data": {
      "text/plain": [
       "(7659, 22)"
      ]
     },
     "execution_count": 31,
     "metadata": {},
     "output_type": "execute_result"
    }
   ],
   "source": [
    "dataset.shape"
   ]
  },
  {
   "cell_type": "code",
   "execution_count": 32,
   "metadata": {},
   "outputs": [],
   "source": [
    "# X=dataset[1:]\n",
    "# Y=dataset[0]\n"
   ]
  },
  {
   "cell_type": "code",
   "execution_count": 33,
   "metadata": {},
   "outputs": [],
   "source": [
    "# X[:5,:],Y[:5,:]"
   ]
  },
  {
   "cell_type": "code",
   "execution_count": 34,
   "metadata": {},
   "outputs": [
    {
     "data": {
      "text/plain": [
       "<function Tensor.type>"
      ]
     },
     "execution_count": 34,
     "metadata": {},
     "output_type": "execute_result"
    }
   ],
   "source": [
    "dataset=torch.tensor(dataset.values,dtype=torch.float32)\n",
    "dataset.type"
   ]
  },
  {
   "cell_type": "code",
   "execution_count": 35,
   "metadata": {},
   "outputs": [],
   "source": [
    "X=dataset[:,1:]\n",
    "Y=dataset[:,0]\n",
    "Y=Y.view(-1,1)\n"
   ]
  },
  {
   "cell_type": "code",
   "execution_count": 36,
   "metadata": {},
   "outputs": [
    {
     "data": {
      "text/plain": [
       "tensor([[1.0000e+00, 2.0000e+00, 1.4800e+02, 2.0250e+03, 1.0000e+00, 0.0000e+00,\n",
       "         0.0000e+00, 1.0000e+00, 0.0000e+00, 0.0000e+00, 0.0000e+00, 0.0000e+00,\n",
       "         0.0000e+00, 0.0000e+00, 0.0000e+00, 0.0000e+00, 0.0000e+00, 0.0000e+00,\n",
       "         1.0000e+00, 1.0000e+00, 0.0000e+00],\n",
       "        [3.0000e+00, 2.0000e+00, 1.4800e+02, 2.0250e+03, 1.0000e+00, 0.0000e+00,\n",
       "         0.0000e+00, 1.0000e+00, 0.0000e+00, 0.0000e+00, 0.0000e+00, 0.0000e+00,\n",
       "         0.0000e+00, 0.0000e+00, 0.0000e+00, 1.0000e+00, 0.0000e+00, 0.0000e+00,\n",
       "         0.0000e+00, 1.0000e+00, 0.0000e+00],\n",
       "        [5.0000e+00, 3.0000e+00, 3.5000e+02, 2.0250e+03, 0.0000e+00, 1.0000e+00,\n",
       "         1.0000e+00, 0.0000e+00, 0.0000e+00, 0.0000e+00, 0.0000e+00, 0.0000e+00,\n",
       "         0.0000e+00, 0.0000e+00, 0.0000e+00, 1.0000e+00, 0.0000e+00, 0.0000e+00,\n",
       "         0.0000e+00, 0.0000e+00, 1.0000e+00]])"
      ]
     },
     "execution_count": 36,
     "metadata": {},
     "output_type": "execute_result"
    }
   ],
   "source": [
    "X[:3,:]"
   ]
  },
  {
   "cell_type": "code",
   "execution_count": 37,
   "metadata": {},
   "outputs": [
    {
     "data": {
      "text/plain": [
       "(torch.Size([7659, 21]), torch.Size([7659, 1]))"
      ]
     },
     "execution_count": 37,
     "metadata": {},
     "output_type": "execute_result"
    }
   ],
   "source": [
    "X.shape,Y.shape"
   ]
  },
  {
   "cell_type": "code",
   "execution_count": 38,
   "metadata": {},
   "outputs": [],
   "source": [
    "# Y_log = torch.log1p(Y)  # log1p(Y) = ln(1 + Y) to handle zero or positive values"
   ]
  },
  {
   "cell_type": "code",
   "execution_count": 39,
   "metadata": {},
   "outputs": [],
   "source": [
    "# X_train,X_test,Y_train,Y_test=train_test_split(X,Y,test_size=0.2,random_state=42)\n",
    "# X_train.shape,X_test.shape,Y_train.shape,Y_test.shape"
   ]
  },
  {
   "cell_type": "code",
   "execution_count": null,
   "metadata": {},
   "outputs": [
    {
     "name": "stderr",
     "output_type": "stream",
     "text": [
      "/tmp/ipykernel_8604/1271224318.py:2: UserWarning: To copy construct from a tensor, it is recommended to use sourceTensor.clone().detach() or sourceTensor.clone().detach().requires_grad_(True), rather than torch.tensor(sourceTensor).\n",
      "  X_train = torch.tensor(X_train, dtype=torch.float32)\n",
      "/tmp/ipykernel_8604/1271224318.py:3: UserWarning: To copy construct from a tensor, it is recommended to use sourceTensor.clone().detach() or sourceTensor.clone().detach().requires_grad_(True), rather than torch.tensor(sourceTensor).\n",
      "  X_test = torch.tensor(X_test, dtype=torch.float32)\n",
      "/tmp/ipykernel_8604/1271224318.py:4: UserWarning: To copy construct from a tensor, it is recommended to use sourceTensor.clone().detach() or sourceTensor.clone().detach().requires_grad_(True), rather than torch.tensor(sourceTensor).\n",
      "  Y_train_raw = torch.tensor(Y_train_raw, dtype=torch.float32)\n",
      "/tmp/ipykernel_8604/1271224318.py:5: UserWarning: To copy construct from a tensor, it is recommended to use sourceTensor.clone().detach() or sourceTensor.clone().detach().requires_grad_(True), rather than torch.tensor(sourceTensor).\n",
      "  Y_test_raw = torch.tensor(Y_test_raw, dtype=torch.float32)\n"
     ]
    }
   ],
   "source": [
    "X_train, X_test, Y_train_raw, Y_test_raw = train_test_split(X, Y, test_size=0.2, random_state=42)\n",
    "X_train = torch.tensor(X_train, dtype=torch.float32)\n",
    "X_test = torch.tensor(X_test, dtype=torch.float32)\n",
    "Y_train_raw = torch.tensor(Y_train_raw, dtype=torch.float32)\n",
    "Y_test_raw = torch.tensor(Y_test_raw, dtype=torch.float32)\n",
    "\n",
    "\n",
    "\n",
    "# Normalize X\n",
    "mean = X_train.mean(dim=0)\n",
    "torch.save(mean, \"mean.pt\")\n",
    "std = X_train.std(dim=0)\n",
    "torch.save(std, \"std.pt\")\n",
    "X_train = (X_train - mean) / std\n",
    "X_test = (X_test - mean) / std\n",
    "\n",
    "# Log-transform and normalize Y\n",
    "Y_train_log = torch.log(Y_train_raw)\n",
    "Y_test_log = torch.log(Y_test_raw)\n",
    "Y_mean = Y_train_log.mean()\n",
    "Y_std = Y_train_log.std()\n",
    "Y_train = (Y_train_log - Y_mean) / Y_std\n",
    "Y_test = (Y_test_log - Y_mean) / Y_std\n",
    "\n",
    "\n",
    "# # Normalize Y\n",
    "# Y_mean = Y_train_raw.mean()\n",
    "# Y_std = Y_train_raw.std()\n",
    "# Y_train = (Y_train_raw - Y_mean) / Y_std\n",
    "# Y_test = (Y_test_raw - Y_mean) / Y_std\n",
    "\n"
   ]
  },
  {
   "cell_type": "code",
   "execution_count": 41,
   "metadata": {},
   "outputs": [],
   "source": [
    "# mean=X_train.mean(dim=0)\n",
    "# torch.save(mean,\"mean.pt\")\n",
    "# std=X_train.std(dim=0)\n",
    "# torch.save(std,\"std.pt\")\n",
    "\n"
   ]
  },
  {
   "cell_type": "code",
   "execution_count": 42,
   "metadata": {},
   "outputs": [],
   "source": [
    "# X_train=(X_train-mean)/std\n",
    "# X_test=(X_test-mean)/std\n"
   ]
  },
  {
   "cell_type": "code",
   "execution_count": 43,
   "metadata": {},
   "outputs": [],
   "source": [
    "# Y_mean = Y_train.mean()\n",
    "# Y_std = Y_train.std()\n",
    "# Y_train = (Y_train - Y_mean) / Y_std\n",
    "# Y_test= (Y_test - Y_mean) / Y_std  "
   ]
  },
  {
   "cell_type": "code",
   "execution_count": 44,
   "metadata": {},
   "outputs": [
    {
     "data": {
      "text/plain": [
       "(tensor([3.0662e+00, 2.5576e+00, 1.9919e+02, 2.0248e+03, 4.4912e-01, 5.5088e-01,\n",
       "         5.3849e-01, 4.6151e-01, 1.0926e-02, 7.5016e-03, 2.3973e-02, 5.5561e-01,\n",
       "         2.7723e-03, 6.9798e-02, 1.2231e-02, 6.0665e-02, 1.7613e-02, 4.9087e-02,\n",
       "         1.8982e-01, 8.6057e-01, 1.3943e-01]),\n",
       " tensor([2.0612e+00, 1.5780e+00, 2.6704e+02, 4.3442e-01, 4.9744e-01, 4.9744e-01,\n",
       "         4.9856e-01, 4.9856e-01, 1.0396e-01, 8.6294e-02, 1.5298e-01, 4.9694e-01,\n",
       "         5.2584e-02, 2.5483e-01, 1.0992e-01, 2.3873e-01, 1.3155e-01, 2.1607e-01,\n",
       "         3.9219e-01, 3.4643e-01, 3.4643e-01]))"
      ]
     },
     "execution_count": 44,
     "metadata": {},
     "output_type": "execute_result"
    }
   ],
   "source": [
    "mean,std"
   ]
  },
  {
   "cell_type": "code",
   "execution_count": 45,
   "metadata": {},
   "outputs": [
    {
     "data": {
      "text/plain": [
       "(tensor([ 6.2210e-10, -9.9535e-09, -1.2131e-08, -8.0672e-05,  9.7358e-08,\n",
       "          3.1105e-10,  6.0032e-08, -2.3018e-08,  8.7094e-09,  7.4652e-09,\n",
       "          3.3904e-08, -6.5009e-08,  2.5428e-08,  4.0436e-08,  5.5989e-09,\n",
       "          2.4884e-09,  3.5460e-08, -1.6175e-08,  5.4433e-09,  2.1151e-08,\n",
       "         -2.1151e-08]),\n",
       " tensor([1.0000, 1.0000, 1.0000, 1.0000, 1.0000, 1.0000, 1.0000, 1.0000, 1.0000,\n",
       "         1.0000, 1.0000, 1.0000, 1.0000, 1.0000, 1.0000, 1.0000, 1.0000, 1.0000,\n",
       "         1.0000, 1.0000, 1.0000]))"
      ]
     },
     "execution_count": 45,
     "metadata": {},
     "output_type": "execute_result"
    }
   ],
   "source": [
    "X_train.mean(dim=0),X_train.std(dim=0)\n"
   ]
  },
  {
   "cell_type": "code",
   "execution_count": 46,
   "metadata": {},
   "outputs": [
    {
     "data": {
      "text/plain": [
       "torch.Size([6132, 21])"
      ]
     },
     "execution_count": 46,
     "metadata": {},
     "output_type": "execute_result"
    }
   ],
   "source": [
    "X_train.shape"
   ]
  },
  {
   "cell_type": "code",
   "execution_count": 47,
   "metadata": {},
   "outputs": [],
   "source": [
    "# class RevoNeuralNetwork(nn.Module):\n",
    "#     def __init__(self):\n",
    "#         super().__init__()\n",
    "       \n",
    "#         self.fc1 = nn.Linear(21, 512) \n",
    "#         self.fc2Seq = nn.Sequential(\n",
    "#             nn.Linear(512, 256),\n",
    "#             nn.ReLU(), \n",
    "#             nn.BatchNorm1d(256), \n",
    "#             nn.Dropout(0.2),\n",
    "#             nn.Linear(256, 128), \n",
    "#             nn.ReLU(), \n",
    "#             nn.BatchNorm1d(128), \n",
    "#             nn.Dropout(0.2),\n",
    "#             nn.Linear(128, 64), \n",
    "#             nn.ReLU(), \n",
    "#             nn.BatchNorm1d(64),\n",
    "#             nn.Linear(64, 32), \n",
    "#             nn.ReLU()\n",
    "#         )\n",
    "#         # Adding a dropout layer\n",
    "#         self.dropout = nn.Dropout(0.3)\n",
    "#         self.fc6 = nn.Linear(32, 1)  \n",
    "\n",
    "#     def forward(self,x):\n",
    "#         x=self.fc1(x)\n",
    "#         x=self.fc2Seq(x)\n",
    "#         x=self.dropout(x)\n",
    "#         x=self.fc6(x)\n",
    "       \n",
    "#         return x\n",
    "\n",
    "\n",
    "class RevoNeuralNetwork(nn.Module):\n",
    "    def __init__(self):\n",
    "        super().__init__()\n",
    "\n",
    "        self.fc1 = nn.Linear(21, 1024)\n",
    "        self.fc2Seq = nn.Sequential(\n",
    "            nn.Linear(1024, 512),\n",
    "            nn.GELU(),\n",
    "            nn.BatchNorm1d(512),\n",
    "            nn.Dropout(0.2),\n",
    "            nn.Linear(512, 256),\n",
    "            nn.GELU(),\n",
    "            nn.BatchNorm1d(256),\n",
    "            nn.Dropout(0.2),\n",
    "            nn.Linear(256, 128),\n",
    "            nn.LeakyReLU(),\n",
    "            nn.BatchNorm1d(128),\n",
    "            nn.Linear(128, 64),\n",
    "            nn.GELU(),\n",
    "            nn.BatchNorm1d(64),\n",
    "            nn.Linear(64, 32),\n",
    "            nn.ReLU(),\n",
    "            nn.Linear(32, 16),\n",
    "            nn.GELU()\n",
    "        )\n",
    "        self.fc6 = nn.Linear(16, 1)\n",
    "\n",
    "    def forward(self, x):\n",
    "        x = self.fc1(x)\n",
    "        x = self.fc2Seq(x)\n",
    "        x = self.fc6(x)\n",
    "        return x"
   ]
  },
  {
   "cell_type": "code",
   "execution_count": 48,
   "metadata": {},
   "outputs": [],
   "source": [
    "# model=RevoNeuralNetwork()\n"
   ]
  },
  {
   "cell_type": "code",
   "execution_count": 49,
   "metadata": {},
   "outputs": [],
   "source": [
    "# optimizer=torch.optim.Adam(model.parameters(),lr=0.0005,weight_decay=1e-4)\n",
    "# lossfun = nn.HuberLoss(delta=0.167,reduction='mean')  "
   ]
  },
  {
   "cell_type": "code",
   "execution_count": null,
   "metadata": {},
   "outputs": [
    {
     "name": "stdout",
     "output_type": "stream",
     "text": [
      "Epoch 0\n",
      "Train Loss: 0.0510, Train MAE: 0.3390 LR: 0.0002\n",
      "Test Loss: 0.0255, Test MAE: 0.1971 , RMSE: 14046172.0, MAPE: 179.94%, R² Score: 0.3045\n",
      "Epoch 10\n",
      "Train Loss: 0.0208, Train MAE: 0.1701 LR: 0.0002\n",
      "Test Loss: 0.0202, Test MAE: 0.1632 , RMSE: 13838117.0, MAPE: 134.16%, R² Score: 0.3249\n",
      "Epoch 20\n",
      "Train Loss: 0.0187, Train MAE: 0.1569 LR: 0.0002\n",
      "Test Loss: 0.0174, Test MAE: 0.1480 , RMSE: 13487184.0, MAPE: 142.01%, R² Score: 0.3587\n",
      "Epoch 30\n",
      "Train Loss: 0.0180, Train MAE: 0.1528 LR: 0.0002\n",
      "Test Loss: 0.0169, Test MAE: 0.1433 , RMSE: 13722566.0, MAPE: 126.65%, R² Score: 0.3361\n",
      "Epoch 40\n",
      "Train Loss: 0.0170, Train MAE: 0.1465 LR: 0.0002\n",
      "Test Loss: 0.0166, Test MAE: 0.1413 , RMSE: 13603948.0, MAPE: 133.27%, R² Score: 0.3476\n",
      "Epoch 50\n",
      "Train Loss: 0.0167, Train MAE: 0.1444 LR: 0.0002\n",
      "Test Loss: 0.0176, Test MAE: 0.1501 , RMSE: 13810053.0, MAPE: 127.68%, R² Score: 0.3276\n",
      "Epoch 60\n",
      "Train Loss: 0.0159, Train MAE: 0.1391 LR: 0.0002\n",
      "Test Loss: 0.0161, Test MAE: 0.1395 , RMSE: 13637047.0, MAPE: 128.00%, R² Score: 0.3444\n",
      "Epoch 70\n",
      "Train Loss: 0.0156, Train MAE: 0.1376 LR: 0.0002\n",
      "Test Loss: 0.0165, Test MAE: 0.1408 , RMSE: 13634996.0, MAPE: 129.84%, R² Score: 0.3446\n",
      "Epoch 80\n",
      "Train Loss: 0.0154, Train MAE: 0.1362 LR: 0.0002\n",
      "Test Loss: 0.0165, Test MAE: 0.1405 , RMSE: 13886413.0, MAPE: 130.39%, R² Score: 0.3202\n",
      "Epoch 90\n",
      "Train Loss: 0.0145, Train MAE: 0.1307 LR: 0.0001\n",
      "Test Loss: 0.0161, Test MAE: 0.1396 , RMSE: 13748272.0, MAPE: 137.98%, R² Score: 0.3336\n",
      "Epoch 100\n",
      "Train Loss: 0.0142, Train MAE: 0.1292 LR: 0.0001\n",
      "Test Loss: 0.0171, Test MAE: 0.1428 , RMSE: 13886799.0, MAPE: 149.75%, R² Score: 0.3202\n",
      "Epoch 110\n",
      "Train Loss: 0.0136, Train MAE: 0.1246 LR: 5e-05\n",
      "Test Loss: 0.0161, Test MAE: 0.1371 , RMSE: 13922260.0, MAPE: 145.06%, R² Score: 0.3167\n",
      "Epoch 120\n",
      "Train Loss: 0.0135, Train MAE: 0.1246 LR: 5e-05\n",
      "Test Loss: 0.0162, Test MAE: 0.1383 , RMSE: 13717018.0, MAPE: 148.36%, R² Score: 0.3367\n",
      "Epoch 130\n",
      "Train Loss: 0.0134, Train MAE: 0.1232 LR: 2.5e-05\n",
      "Test Loss: 0.0165, Test MAE: 0.1392 , RMSE: 13800506.0, MAPE: 155.00%, R² Score: 0.3286\n",
      "Epoch 140\n",
      "Train Loss: 0.0133, Train MAE: 0.1229 LR: 2.5e-05\n",
      "Test Loss: 0.0163, Test MAE: 0.1385 , RMSE: 13737521.0, MAPE: 151.15%, R² Score: 0.3347\n",
      "Epoch 150\n",
      "Train Loss: 0.0133, Train MAE: 0.1226 LR: 1.25e-05\n",
      "Test Loss: 0.0163, Test MAE: 0.1380 , RMSE: 13805335.0, MAPE: 161.11%, R² Score: 0.3281\n",
      "Epoch 160\n",
      "Train Loss: 0.0132, Train MAE: 0.1221 LR: 1.25e-05\n",
      "Test Loss: 0.0161, Test MAE: 0.1368 , RMSE: 14007053.0, MAPE: 155.36%, R² Score: 0.3083\n",
      "Epoch 170\n",
      "Train Loss: 0.0133, Train MAE: 0.1224 LR: 6.25e-06\n",
      "Test Loss: 0.0160, Test MAE: 0.1363 , RMSE: 13882436.0, MAPE: 149.93%, R² Score: 0.3206\n",
      "Epoch 180\n",
      "Train Loss: 0.0130, Train MAE: 0.1209 LR: 6.25e-06\n",
      "Test Loss: 0.0163, Test MAE: 0.1382 , RMSE: 13936035.0, MAPE: 156.51%, R² Score: 0.3153\n",
      "Epoch 190\n",
      "Train Loss: 0.0128, Train MAE: 0.1195 LR: 3.125e-06\n",
      "Test Loss: 0.0161, Test MAE: 0.1370 , RMSE: 13710033.0, MAPE: 152.59%, R² Score: 0.3373\n"
     ]
    },
    {
     "data": {
      "image/png": "[encoded data removed]",
      "text/plain": [
       "<Figure size 1200x400 with 2 Axes>"
      ]
     },
     "metadata": {},
     "output_type": "display_data"
    },
    {
     "name": "stdout",
     "output_type": "stream",
     "text": [
      "\n",
      "Final Results:\n",
      "Final Train Loss: 0.0130\n",
      "Final Test Loss: 0.0161\n",
      "Final Train MAE: 0.1204\n",
      "Final Test MAE: 0.1367\n"
     ]
    }
   ],
   "source": [
    "model=RevoNeuralNetwork()\n",
    "model=model.to(device)\n",
    "optimizer=torch.optim.AdamW(model.parameters(),lr=0.0002,weight_decay=1e-5)\n",
    "lossfun =nn.HuberLoss(delta=0.2)\n",
    "scheduler = torch.optim.lr_scheduler.ReduceLROnPlateau(optimizer, mode='min', factor=0.5, patience=20)\n",
    "\n",
    "metric = R2Score().to(device)\n",
    "trainLossavg = []\n",
    "testLoss = []\n",
    "rmsetest=[]\n",
    "mapetest=[]\n",
    "Rsqtest=[]\n",
    "best_mae = float('inf')\n",
    "patience = 50\n",
    "counter = 0\n",
    "trainMAEavg = []\n",
    "testMAE = []\n",
    "\n",
    "train_dataset = TensorDataset(X_train, Y_train)\n",
    "train_loader = DataLoader(train_dataset, batch_size=32, shuffle=True)\n",
    "\n",
    "Y_test_raw=Y_test_raw.to(device)\n",
    "\n",
    "for epoch in range(200):\n",
    "    batchLoss = []\n",
    "    batchMAE= []\n",
    "    batchtrainlossraw=[]\n",
    "\n",
    "    # Training phase\n",
    "    for x_train, y_train in train_loader:\n",
    "        x_train = x_train.to(device)\n",
    "        y_train = y_train.to(device)\n",
    "\n",
    "        model.train()\n",
    "        y_pred = model(x_train)\n",
    "        loss = lossfun(y_pred, y_train)\n",
    "\n",
    "        # Backpropagation\n",
    "        optimizer.zero_grad()\n",
    "        loss.backward()\n",
    "        optimizer.step()\n",
    "\n",
    "        # Calculate training MAE\n",
    "        batch_mae = torch.mean(torch.abs(y_pred - y_train)).item()\n",
    "        # batch_mae_raw = torch.mean(torch.abs(torch.exp(y_pred * Y_std + Y_mean) - torch.exp(y_train * Y_std + Y_mean))).item()\n",
    "        batchLoss.append(loss.item())\n",
    "        batchMAE.append(batch_mae)\n",
    "        y_pred_test_raw = torch.exp(y_pred*Y_std + Y_mean)\n",
    "        y_train_raw = torch.exp(y_train*Y_std + Y_mean)\n",
    "\n",
    "\n",
    "\n",
    "    # Calculate average loss and MAE for the epoch\n",
    "    trainLossavg.append(np.mean(batchLoss))\n",
    "    trainMAEavg.append(np.mean(batchMAE))\n",
    "\n",
    "    model.eval()\n",
    "    with torch.no_grad():\n",
    "        X_test = X_test.to(device)\n",
    "        Y_test = Y_test.to(device)\n",
    "        y_pred_test = model(X_test)\n",
    "        y_pred_raw=torch.exp(y_pred_test * Y_std + Y_mean).to(device)\n",
    "        # Huber Loss\n",
    "        test_loss = lossfun(y_pred_test, Y_test)\n",
    "        testLoss.append(test_loss.item())\n",
    "        #MAE\n",
    "        test_mae = torch.mean(torch.abs(y_pred_test - Y_test)).item()\n",
    "        testMAE.append(test_mae)\n",
    "\n",
    "       \n",
    "        # R² Score\n",
    "\n",
    "        metric.update(y_pred_raw, Y_test_raw)  # Update with predictions and targets\n",
    "        r2 = metric.compute()                  # Compute R² score\n",
    "        Rsqtest.append(r2.item())              # Store the scalar value\n",
    "        metric.reset()\n",
    "\n",
    "\n",
    "\n",
    "\n",
    "    scheduler.step(test_loss)\n",
    "\n",
    "    if epoch % 10 == 0:\n",
    "        print(f'Epoch {epoch}')\n",
    "\n",
    "        print(f'Train Loss: {trainLossavg[-1]:.4f}, Train MAE: {trainMAEavg[-1]:.4f} LR: {optimizer.param_groups[0][\"lr\"]}')\n",
    "        print(f'Test Loss: {test_loss.item():.4f}, Test MAE: {test_mae:.4f} ,  R² Score: {r2.item():.4f}')\n",
    "\n",
    "import matplotlib.pyplot as plt\n",
    "\n",
    "plt.figure(figsize=(12, 4))\n",
    "plt.subplot(1, 2, 1)\n",
    "plt.plot(trainLossavg, label='Train Loss')\n",
    "plt.plot(testLoss, label='Test Loss')\n",
    "plt.xlabel('Epoch')\n",
    "plt.ylabel('Loss')\n",
    "plt.legend()\n",
    "plt.title('Training and Testing Loss')\n",
    "\n",
    "plt.subplot(1, 2, 2)\n",
    "plt.plot(trainMAEavg, label='Train MAE')\n",
    "plt.plot(testMAE, label='Test MAE')\n",
    "plt.xlabel('Epoch')\n",
    "plt.ylabel('MAE')\n",
    "plt.legend()\n",
    "plt.title('Training and Testing MAE')\n",
    "plt.tight_layout()\n",
    "plt.show()\n",
    "\n",
    "print(\"\\nFinal Results:\")\n",
    "print(f\"Final Train Loss: {trainLossavg[-1]:.4f}\")\n",
    "print(f\"Final Test Loss: {testLoss[-1]:.4f}\")\n",
    "print(f\"Final Train MAE: {trainMAEavg[-1]:.4f}\")\n",
    "print(f\"Final Test MAE: {testMAE[-1]:.4f}\")"
   ]
  },
  {
   "cell_type": "code",
   "execution_count": null,
   "metadata": {},
   "outputs": [],
   "source": []
  },
  {
   "cell_type": "code",
   "execution_count": null,
   "metadata": {},
   "outputs": [],
   "source": []
  },
  {
   "cell_type": "code",
   "execution_count": 51,
   "metadata": {},
   "outputs": [
    {
     "data": {
      "text/plain": [
       "torch.Size([1532, 21])"
      ]
     },
     "execution_count": 51,
     "metadata": {},
     "output_type": "execute_result"
    }
   ],
   "source": [
    "X_test.shape"
   ]
  },
  {
   "cell_type": "code",
   "execution_count": null,
   "metadata": {},
   "outputs": [
    {
     "name": "stdout",
     "output_type": "stream",
     "text": [
      "Test MAPE: 2.63%\n"
     ]
    }
   ],
   "source": []
  },
  {
   "cell_type": "code",
   "execution_count": 53,
   "metadata": {},
   "outputs": [],
   "source": [
    "#38000.0,3.0,2.0,148.0,2024.0,1.0,0.0,0.0,1.0,0.0,0.0,0.0,0.0,0.0,0.0,0.0,1.0,0.0,0.0,0.0,1.0,0.0\n",
    "#13000000.0,3.0,2.0,148.0,2024.0,0.0,1.0,0.0,1.0,1.0,0.0,0.0,0.0,0.0,0.0,0.0,0.0,0.0,0.0,0.0,1.0,0.0\n"
   ]
  },
  {
   "cell_type": "code",
   "execution_count": 54,
   "metadata": {},
   "outputs": [
    {
     "data": {
      "text/plain": [
       "device(type='cpu')"
      ]
     },
     "execution_count": 54,
     "metadata": {},
     "output_type": "execute_result"
    }
   ],
   "source": [
    "device = torch.device(\"cuda\" if torch.cuda.is_available() else \"cpu\")\n",
    "device"
   ]
  },
  {
   "cell_type": "code",
   "execution_count": 64,
   "metadata": {},
   "outputs": [
    {
     "name": "stdout",
     "output_type": "stream",
     "text": [
      "Prediction: 13256.9\n"
     ]
    }
   ],
   "source": [
    "raw_input =[1.0,1.0,39.0,2025.0,1.0,0.0,0.0,1.0,0.0,0.0,0.0,0.0,0.0,0.0,0.0,0.0,0.0,0.0,1.0,1.0,0.0]\n",
    "input_tensor = torch.tensor(raw_input, dtype=torch.float32).unsqueeze(0)\n",
    "input_tensor_scaled = (input_tensor - mean) / std\n",
    "\n",
    "model.eval()\n",
    "with torch.no_grad():\n",
    "    y_pred = model(input_tensor_scaled)\n",
    "    y_pred_raw = torch.exp(y_pred * Y_std + Y_mean)  # Reverse log transformation\n",
    "    print(f'Prediction: {y_pred_raw.item():.1f}')  \n"
   ]
  },
  {
   "cell_type": "code",
   "execution_count": null,
   "metadata": {},
   "outputs": [],
   "source": []
  },
  {
   "cell_type": "code",
   "execution_count": null,
   "metadata": {},
   "outputs": [],
   "source": []
  }
 ],
 "metadata": {
  "kernelspec": {
   "display_name": "revo",
   "language": "python",
   "name": "python3"
  },
  "language_info": {
   "codemirror_mode": {
    "name": "ipython",
    "version": 3
   },
   "file_extension": ".py",
   "mimetype": "text/x-python",
   "name": "python",
   "nbconvert_exporter": "python",
   "pygments_lexer": "ipython3",
   "version": "3.11.8"
  }
 },
 "nbformat": 4,
 "nbformat_minor": 2
}
